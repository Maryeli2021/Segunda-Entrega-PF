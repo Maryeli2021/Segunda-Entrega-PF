{
 "cells": [
  {
   "cell_type": "markdown",
   "id": "42207e4c",
   "metadata": {},
   "source": [
    "# ANALISIS DE PRODUCCIÓN EN POZOS NO CONVENCIONALES"
   ]
  },
  {
   "cell_type": "markdown",
   "id": "052be58f",
   "metadata": {},
   "source": [
    "**Importación de librerias**"
   ]
  },
  {
   "cell_type": "code",
   "execution_count": 1,
   "id": "8b6a7f01",
   "metadata": {},
   "outputs": [],
   "source": [
    "import pandas as pd\n",
    "import numpy as np\n",
    "import statistics as stat\n",
    "import seaborn as sns\n",
    "import matplotlib as mpl\n",
    "import matplotlib.pyplot as plt\n",
    "import missingno as msno"
   ]
  },
  {
   "cell_type": "markdown",
   "id": "98cfeecb",
   "metadata": {},
   "source": [
    "## 👓 META DATA\n"
   ]
  },
  {
   "cell_type": "markdown",
   "id": "400f0ca0",
   "metadata": {},
   "source": [
    "Para este analisis usaremos los datos de producción de pozos no convencionales en diversos yacimientos de Argentina contenida en el sitio web de la Secretaria de Energia. "
   ]
  },
  {
   "cell_type": "code",
   "execution_count": 2,
   "id": "159adc3c",
   "metadata": {},
   "outputs": [
    {
     "data": {
      "text/html": [
       "<div>\n",
       "<style scoped>\n",
       "    .dataframe tbody tr th:only-of-type {\n",
       "        vertical-align: middle;\n",
       "    }\n",
       "\n",
       "    .dataframe tbody tr th {\n",
       "        vertical-align: top;\n",
       "    }\n",
       "\n",
       "    .dataframe thead th {\n",
       "        text-align: right;\n",
       "    }\n",
       "</style>\n",
       "<table border=\"1\" class=\"dataframe\">\n",
       "  <thead>\n",
       "    <tr style=\"text-align: right;\">\n",
       "      <th></th>\n",
       "      <th>prod_agua</th>\n",
       "      <th>empresa</th>\n",
       "      <th>sub_tipo_recurso</th>\n",
       "      <th>coordenaday</th>\n",
       "      <th>iny_otro</th>\n",
       "      <th>idareayacimiento</th>\n",
       "      <th>tef</th>\n",
       "      <th>tipopozo</th>\n",
       "      <th>iny_agua</th>\n",
       "      <th>areapermisoconcesion</th>\n",
       "      <th>...</th>\n",
       "      <th>iny_gas</th>\n",
       "      <th>cuenca</th>\n",
       "      <th>vida_util</th>\n",
       "      <th>profundidad</th>\n",
       "      <th>idempresa</th>\n",
       "      <th>clasificacion</th>\n",
       "      <th>formprod</th>\n",
       "      <th>idusuario</th>\n",
       "      <th>fecha_data</th>\n",
       "      <th>proyecto</th>\n",
       "    </tr>\n",
       "  </thead>\n",
       "  <tbody>\n",
       "    <tr>\n",
       "      <th>0</th>\n",
       "      <td>867.79</td>\n",
       "      <td>YSUR ENERGÍA ARGENTINA S.R.L.</td>\n",
       "      <td>TIGHT</td>\n",
       "      <td>-39.028376</td>\n",
       "      <td>0</td>\n",
       "      <td>Z155</td>\n",
       "      <td>31.00</td>\n",
       "      <td>Gasífero</td>\n",
       "      <td>0.0</td>\n",
       "      <td>ESTACION FERNANDEZ ORO</td>\n",
       "      <td>...</td>\n",
       "      <td>0.0</td>\n",
       "      <td>NEUQUINA</td>\n",
       "      <td>NaN</td>\n",
       "      <td>3730.00</td>\n",
       "      <td>YSUR</td>\n",
       "      <td>EXPLOTACION</td>\n",
       "      <td>LAJA</td>\n",
       "      <td>444</td>\n",
       "      <td>2018-01-31T00:00:00</td>\n",
       "      <td>Sin Proyecto</td>\n",
       "    </tr>\n",
       "    <tr>\n",
       "      <th>1</th>\n",
       "      <td>0.00</td>\n",
       "      <td>YSUR ENERGÍA ARGENTINA S.R.L.</td>\n",
       "      <td>TIGHT</td>\n",
       "      <td>-39.012927</td>\n",
       "      <td>0</td>\n",
       "      <td>Z155</td>\n",
       "      <td>30.04</td>\n",
       "      <td>Gasífero</td>\n",
       "      <td>0.0</td>\n",
       "      <td>ESTACION FERNANDEZ ORO</td>\n",
       "      <td>...</td>\n",
       "      <td>0.0</td>\n",
       "      <td>NEUQUINA</td>\n",
       "      <td>NaN</td>\n",
       "      <td>3795.00</td>\n",
       "      <td>YSUR</td>\n",
       "      <td>EXPLOTACION</td>\n",
       "      <td>LAJA</td>\n",
       "      <td>444</td>\n",
       "      <td>2017-01-31T00:00:00</td>\n",
       "      <td>GAS PLUS</td>\n",
       "    </tr>\n",
       "    <tr>\n",
       "      <th>2</th>\n",
       "      <td>17.69</td>\n",
       "      <td>YSUR ENERGÍA ARGENTINA S.R.L.</td>\n",
       "      <td>TIGHT</td>\n",
       "      <td>-39.023057</td>\n",
       "      <td>0</td>\n",
       "      <td>Z155</td>\n",
       "      <td>30.17</td>\n",
       "      <td>Gasífero</td>\n",
       "      <td>0.0</td>\n",
       "      <td>ESTACION FERNANDEZ ORO</td>\n",
       "      <td>...</td>\n",
       "      <td>0.0</td>\n",
       "      <td>NEUQUINA</td>\n",
       "      <td>NaN</td>\n",
       "      <td>3745.00</td>\n",
       "      <td>YSUR</td>\n",
       "      <td>EXPLOTACION</td>\n",
       "      <td>LAJA</td>\n",
       "      <td>444</td>\n",
       "      <td>2018-01-31T00:00:00</td>\n",
       "      <td>GAS PLUS</td>\n",
       "    </tr>\n",
       "    <tr>\n",
       "      <th>3</th>\n",
       "      <td>28.93</td>\n",
       "      <td>YSUR ENERGÍA ARGENTINA S.R.L.</td>\n",
       "      <td>TIGHT</td>\n",
       "      <td>-39.028803</td>\n",
       "      <td>0</td>\n",
       "      <td>Z155</td>\n",
       "      <td>31.00</td>\n",
       "      <td>Gasífero</td>\n",
       "      <td>0.0</td>\n",
       "      <td>ESTACION FERNANDEZ ORO</td>\n",
       "      <td>...</td>\n",
       "      <td>0.0</td>\n",
       "      <td>NEUQUINA</td>\n",
       "      <td>NaN</td>\n",
       "      <td>3743.97</td>\n",
       "      <td>YSUR</td>\n",
       "      <td>EXPLOTACION</td>\n",
       "      <td>LAJA</td>\n",
       "      <td>444</td>\n",
       "      <td>2017-01-31T00:00:00</td>\n",
       "      <td>Sin Proyecto</td>\n",
       "    </tr>\n",
       "    <tr>\n",
       "      <th>4</th>\n",
       "      <td>0.00</td>\n",
       "      <td>YSUR ENERGÍA ARGENTINA S.R.L.</td>\n",
       "      <td>TIGHT</td>\n",
       "      <td>-39.030279</td>\n",
       "      <td>0</td>\n",
       "      <td>Z155</td>\n",
       "      <td>31.00</td>\n",
       "      <td>Gasífero</td>\n",
       "      <td>0.0</td>\n",
       "      <td>ESTACION FERNANDEZ ORO</td>\n",
       "      <td>...</td>\n",
       "      <td>0.0</td>\n",
       "      <td>NEUQUINA</td>\n",
       "      <td>NaN</td>\n",
       "      <td>3890.00</td>\n",
       "      <td>YSUR</td>\n",
       "      <td>EXPLOTACION</td>\n",
       "      <td>LAJA</td>\n",
       "      <td>444</td>\n",
       "      <td>2018-01-31T00:00:00</td>\n",
       "      <td>GAS PLUS</td>\n",
       "    </tr>\n",
       "  </tbody>\n",
       "</table>\n",
       "<p>5 rows × 40 columns</p>\n",
       "</div>"
      ],
      "text/plain": [
       "   prod_agua                        empresa sub_tipo_recurso  coordenaday  \\\n",
       "0     867.79  YSUR ENERGÍA ARGENTINA S.R.L.            TIGHT   -39.028376   \n",
       "1       0.00  YSUR ENERGÍA ARGENTINA S.R.L.            TIGHT   -39.012927   \n",
       "2      17.69  YSUR ENERGÍA ARGENTINA S.R.L.            TIGHT   -39.023057   \n",
       "3      28.93  YSUR ENERGÍA ARGENTINA S.R.L.            TIGHT   -39.028803   \n",
       "4       0.00  YSUR ENERGÍA ARGENTINA S.R.L.            TIGHT   -39.030279   \n",
       "\n",
       "   iny_otro idareayacimiento    tef  tipopozo  iny_agua  \\\n",
       "0         0             Z155  31.00  Gasífero       0.0   \n",
       "1         0             Z155  30.04  Gasífero       0.0   \n",
       "2         0             Z155  30.17  Gasífero       0.0   \n",
       "3         0             Z155  31.00  Gasífero       0.0   \n",
       "4         0             Z155  31.00  Gasífero       0.0   \n",
       "\n",
       "     areapermisoconcesion  ...  iny_gas    cuenca vida_util  profundidad  \\\n",
       "0  ESTACION FERNANDEZ ORO  ...      0.0  NEUQUINA       NaN      3730.00   \n",
       "1  ESTACION FERNANDEZ ORO  ...      0.0  NEUQUINA       NaN      3795.00   \n",
       "2  ESTACION FERNANDEZ ORO  ...      0.0  NEUQUINA       NaN      3745.00   \n",
       "3  ESTACION FERNANDEZ ORO  ...      0.0  NEUQUINA       NaN      3743.97   \n",
       "4  ESTACION FERNANDEZ ORO  ...      0.0  NEUQUINA       NaN      3890.00   \n",
       "\n",
       "  idempresa clasificacion formprod idusuario           fecha_data  \\\n",
       "0      YSUR   EXPLOTACION     LAJA       444  2018-01-31T00:00:00   \n",
       "1      YSUR   EXPLOTACION     LAJA       444  2017-01-31T00:00:00   \n",
       "2      YSUR   EXPLOTACION     LAJA       444  2018-01-31T00:00:00   \n",
       "3      YSUR   EXPLOTACION     LAJA       444  2017-01-31T00:00:00   \n",
       "4      YSUR   EXPLOTACION     LAJA       444  2018-01-31T00:00:00   \n",
       "\n",
       "       proyecto  \n",
       "0  Sin Proyecto  \n",
       "1      GAS PLUS  \n",
       "2      GAS PLUS  \n",
       "3  Sin Proyecto  \n",
       "4      GAS PLUS  \n",
       "\n",
       "[5 rows x 40 columns]"
      ]
     },
     "execution_count": 2,
     "metadata": {},
     "output_type": "execute_result"
    }
   ],
   "source": [
    "# Obtenemos la URL de la API\n",
    "url = \"http://datos.energia.gob.ar/api/action/datastore_search\"\n",
    "\n",
    "# Obtenemos los Parámetros de la solicitud de la API, especificamente para los datos de pozos no convencionales\n",
    "params = {\"resource_id\": \"b5b58cdc-9e07-41f9-b392-fb9ec68b0725\"}\n",
    "\n",
    "import requests\n",
    "\n",
    "# Obtenemos datos en formato JSON\n",
    "response = requests.get(url, params=params)\n",
    "\n",
    "data = response.json()\n",
    "\n",
    "# Obtenemos el total de los registros \n",
    "total_records = data[\"result\"][\"total\"]\n",
    "params[\"limit\"] = total_records\n",
    "response = requests.get(url, params=params)\n",
    "\n",
    "data = response.json()\n",
    "\n",
    "# Convertimos los datos a un dataframe\n",
    "dfP = pd.DataFrame.from_records(data[\"result\"][\"records\"])\n",
    "dfP.head()"
   ]
  },
  {
   "cell_type": "markdown",
   "id": "48797245",
   "metadata": {},
   "source": [
    "Adicionalmente obtendremos los datos de fracturas de estos pozos y procederemos a a unir ambos conjuntos de datos para crear un dataframe general."
   ]
  },
  {
   "cell_type": "code",
   "execution_count": 3,
   "id": "c0c861ed",
   "metadata": {},
   "outputs": [
    {
     "data": {
      "text/html": [
       "<div>\n",
       "<style scoped>\n",
       "    .dataframe tbody tr th:only-of-type {\n",
       "        vertical-align: middle;\n",
       "    }\n",
       "\n",
       "    .dataframe tbody tr th {\n",
       "        vertical-align: top;\n",
       "    }\n",
       "\n",
       "    .dataframe thead th {\n",
       "        text-align: right;\n",
       "    }\n",
       "</style>\n",
       "<table border=\"1\" class=\"dataframe\">\n",
       "  <thead>\n",
       "    <tr style=\"text-align: right;\">\n",
       "      <th></th>\n",
       "      <th>fecha_inicio_fractura</th>\n",
       "      <th>mes_carga</th>\n",
       "      <th>anio</th>\n",
       "      <th>longitud_rama_horizontal_m</th>\n",
       "      <th>presion_maxima_psi</th>\n",
       "      <th>co2_inyectado_m3</th>\n",
       "      <th>cantidad_fracturas</th>\n",
       "      <th>areapermisoconcesion</th>\n",
       "      <th>anio_ff</th>\n",
       "      <th>idpozo</th>\n",
       "      <th>...</th>\n",
       "      <th>fecha_fin_fractura</th>\n",
       "      <th>mes</th>\n",
       "      <th>cuenca</th>\n",
       "      <th>mes_if</th>\n",
       "      <th>anio_if</th>\n",
       "      <th>anio_carga</th>\n",
       "      <th>empresa_informante</th>\n",
       "      <th>fecha_data</th>\n",
       "      <th>formacion_productiva</th>\n",
       "      <th>yacimiento</th>\n",
       "    </tr>\n",
       "  </thead>\n",
       "  <tbody>\n",
       "    <tr>\n",
       "      <th>0</th>\n",
       "      <td>2019-04-20T00:00:00</td>\n",
       "      <td>6</td>\n",
       "      <td>2019</td>\n",
       "      <td>0.0</td>\n",
       "      <td>10190.0</td>\n",
       "      <td>0.0</td>\n",
       "      <td>3</td>\n",
       "      <td>AGUA DEL CAJON</td>\n",
       "      <td>2019</td>\n",
       "      <td>159910</td>\n",
       "      <td>...</td>\n",
       "      <td>2019-04-30T00:00:00</td>\n",
       "      <td>4</td>\n",
       "      <td>NEUQUINA</td>\n",
       "      <td>4</td>\n",
       "      <td>2019</td>\n",
       "      <td>2019</td>\n",
       "      <td>CAPEX S.A.</td>\n",
       "      <td>2019-06-14T17:13:03</td>\n",
       "      <td>los molles</td>\n",
       "      <td>AGUA DEL CAJON</td>\n",
       "    </tr>\n",
       "    <tr>\n",
       "      <th>1</th>\n",
       "      <td>2018-11-02T00:00:00</td>\n",
       "      <td>6</td>\n",
       "      <td>2018</td>\n",
       "      <td>0.0</td>\n",
       "      <td>9250.0</td>\n",
       "      <td>0.0</td>\n",
       "      <td>1</td>\n",
       "      <td>AGUA DEL CAJON</td>\n",
       "      <td>2018</td>\n",
       "      <td>159910</td>\n",
       "      <td>...</td>\n",
       "      <td>2018-11-03T00:00:00</td>\n",
       "      <td>11</td>\n",
       "      <td>NEUQUINA</td>\n",
       "      <td>11</td>\n",
       "      <td>2018</td>\n",
       "      <td>2019</td>\n",
       "      <td>CAPEX S.A.</td>\n",
       "      <td>2019-06-14T17:14:19</td>\n",
       "      <td>los molles</td>\n",
       "      <td>AGUA DEL CAJON</td>\n",
       "    </tr>\n",
       "    <tr>\n",
       "      <th>2</th>\n",
       "      <td>2017-11-19T00:00:00</td>\n",
       "      <td>6</td>\n",
       "      <td>2017</td>\n",
       "      <td>1437.3</td>\n",
       "      <td>15000.0</td>\n",
       "      <td>0.0</td>\n",
       "      <td>18</td>\n",
       "      <td>AGUADA DE LA ARENA</td>\n",
       "      <td>2017</td>\n",
       "      <td>159219</td>\n",
       "      <td>...</td>\n",
       "      <td>2017-12-14T00:00:00</td>\n",
       "      <td>11</td>\n",
       "      <td>NEUQUINA</td>\n",
       "      <td>11</td>\n",
       "      <td>2017</td>\n",
       "      <td>2019</td>\n",
       "      <td>YPF S.A.</td>\n",
       "      <td>2019-06-27T13:46:21</td>\n",
       "      <td>vaca muerta</td>\n",
       "      <td>AGUADA DE LA ARENA</td>\n",
       "    </tr>\n",
       "    <tr>\n",
       "      <th>3</th>\n",
       "      <td>2017-11-21T00:00:00</td>\n",
       "      <td>6</td>\n",
       "      <td>2017</td>\n",
       "      <td>1518.3</td>\n",
       "      <td>11348.0</td>\n",
       "      <td>0.0</td>\n",
       "      <td>19</td>\n",
       "      <td>AGUADA DE LA ARENA</td>\n",
       "      <td>2017</td>\n",
       "      <td>159220</td>\n",
       "      <td>...</td>\n",
       "      <td>2017-12-15T00:00:00</td>\n",
       "      <td>11</td>\n",
       "      <td>NEUQUINA</td>\n",
       "      <td>11</td>\n",
       "      <td>2017</td>\n",
       "      <td>2019</td>\n",
       "      <td>YPF S.A.</td>\n",
       "      <td>2019-06-27T13:46:21</td>\n",
       "      <td>vaca muerta</td>\n",
       "      <td>AGUADA DE LA ARENA</td>\n",
       "    </tr>\n",
       "    <tr>\n",
       "      <th>4</th>\n",
       "      <td>2017-11-18T00:00:00</td>\n",
       "      <td>6</td>\n",
       "      <td>2017</td>\n",
       "      <td>1482.3</td>\n",
       "      <td>11076.0</td>\n",
       "      <td>0.0</td>\n",
       "      <td>19</td>\n",
       "      <td>AGUADA DE LA ARENA</td>\n",
       "      <td>2017</td>\n",
       "      <td>159221</td>\n",
       "      <td>...</td>\n",
       "      <td>2017-12-15T00:00:00</td>\n",
       "      <td>11</td>\n",
       "      <td>NEUQUINA</td>\n",
       "      <td>11</td>\n",
       "      <td>2017</td>\n",
       "      <td>2019</td>\n",
       "      <td>YPF S.A.</td>\n",
       "      <td>2019-06-27T13:46:21</td>\n",
       "      <td>vaca muerta</td>\n",
       "      <td>AGUADA DE LA ARENA</td>\n",
       "    </tr>\n",
       "  </tbody>\n",
       "</table>\n",
       "<p>5 rows × 30 columns</p>\n",
       "</div>"
      ],
      "text/plain": [
       "  fecha_inicio_fractura  mes_carga  anio  longitud_rama_horizontal_m  \\\n",
       "0   2019-04-20T00:00:00          6  2019                         0.0   \n",
       "1   2018-11-02T00:00:00          6  2018                         0.0   \n",
       "2   2017-11-19T00:00:00          6  2017                      1437.3   \n",
       "3   2017-11-21T00:00:00          6  2017                      1518.3   \n",
       "4   2017-11-18T00:00:00          6  2017                      1482.3   \n",
       "\n",
       "   presion_maxima_psi  co2_inyectado_m3  cantidad_fracturas  \\\n",
       "0             10190.0               0.0                   3   \n",
       "1              9250.0               0.0                   1   \n",
       "2             15000.0               0.0                  18   \n",
       "3             11348.0               0.0                  19   \n",
       "4             11076.0               0.0                  19   \n",
       "\n",
       "  areapermisoconcesion  anio_ff  idpozo  ...   fecha_fin_fractura  mes  \\\n",
       "0       AGUA DEL CAJON     2019  159910  ...  2019-04-30T00:00:00    4   \n",
       "1       AGUA DEL CAJON     2018  159910  ...  2018-11-03T00:00:00   11   \n",
       "2   AGUADA DE LA ARENA     2017  159219  ...  2017-12-14T00:00:00   11   \n",
       "3   AGUADA DE LA ARENA     2017  159220  ...  2017-12-15T00:00:00   11   \n",
       "4   AGUADA DE LA ARENA     2017  159221  ...  2017-12-15T00:00:00   11   \n",
       "\n",
       "     cuenca  mes_if  anio_if anio_carga  empresa_informante  \\\n",
       "0  NEUQUINA       4     2019       2019          CAPEX S.A.   \n",
       "1  NEUQUINA      11     2018       2019          CAPEX S.A.   \n",
       "2  NEUQUINA      11     2017       2019            YPF S.A.   \n",
       "3  NEUQUINA      11     2017       2019            YPF S.A.   \n",
       "4  NEUQUINA      11     2017       2019            YPF S.A.   \n",
       "\n",
       "            fecha_data  formacion_productiva          yacimiento  \n",
       "0  2019-06-14T17:13:03            los molles      AGUA DEL CAJON  \n",
       "1  2019-06-14T17:14:19            los molles      AGUA DEL CAJON  \n",
       "2  2019-06-27T13:46:21           vaca muerta  AGUADA DE LA ARENA  \n",
       "3  2019-06-27T13:46:21           vaca muerta  AGUADA DE LA ARENA  \n",
       "4  2019-06-27T13:46:21           vaca muerta  AGUADA DE LA ARENA  \n",
       "\n",
       "[5 rows x 30 columns]"
      ]
     },
     "execution_count": 3,
     "metadata": {},
     "output_type": "execute_result"
    }
   ],
   "source": [
    "# Obtenemos la URL de la API\n",
    "url = \"http://datos.energia.gob.ar/api/action/datastore_search\"\n",
    "\n",
    "# Obtenemos los Parámetros de la solicitud de la API:\n",
    "params = {\"resource_id\": \"2280ad92-6ed3-403e-a095-50139863ab0d\"}\n",
    "\n",
    "import requests\n",
    "response = requests.get(url, params=params)\n",
    "\n",
    "# Obtención de los datos en formato JSON\n",
    "data = response.json()\n",
    "\n",
    "total_records = data[\"result\"][\"total\"]\n",
    "params[\"limit\"] = total_records\n",
    "response = requests.get(url, params=params)\n",
    "\n",
    "data = response.json()\n",
    "\n",
    "DS_OG = pd.DataFrame.from_records(data[\"result\"][\"records\"])\n",
    "\n",
    "# Observamos las primeras filas de los datos de diseño de fractura\n",
    "DS_OG.head()"
   ]
  },
  {
   "cell_type": "code",
   "execution_count": 4,
   "id": "caae1774",
   "metadata": {},
   "outputs": [],
   "source": [
    "#Renombraremos la columna de longitud de rama horizontal para simplicar \n",
    "DS_OG.rename(columns={'longitud_rama_horizontal_m':'LRH'},inplace=True)"
   ]
  },
  {
   "cell_type": "markdown",
   "id": "27e2a1b0",
   "metadata": {},
   "source": [
    "Procedemos a crear nuevas variables de uso comun en la industria para facilitar el analisis. Estas seran: longitud_etapa, intensidad_fluido e intensidad_arena."
   ]
  },
  {
   "cell_type": "code",
   "execution_count": 5,
   "id": "f5330e3a",
   "metadata": {},
   "outputs": [],
   "source": [
    "DS_OG['longitud_etapa'] = DS_OG['LRH']/DS_OG['cantidad_fracturas']\n",
    "DS_OG['intensidad_fluido'] =((DS_OG['agua_inyectada_m3']*6.29)/DS_OG['cantidad_fracturas'])/(DS_OG['longitud_etapa']*3.2808)\n",
    "DS_OG['intensidad_arena'] =(((DS_OG['arena_bombeada_nacional_tn']+DS_OG['arena_bombeada_importada_tn'])*2204.6226)/DS_OG['cantidad_fracturas'])/(DS_OG['longitud_etapa']*3.2808)"
   ]
  },
  {
   "cell_type": "markdown",
   "id": "a1a8d65f",
   "metadata": {},
   "source": [
    "Debido a que nuestro analisis se basara en los pozos PETROLIFEROS, ya que en estos la rentabilidad es mayor que en los pozos de gas, y en donde el recurso es SHALE, procedemos a depurar nuestro dataframe de producción quedandonos solo con los pozos que son petrolofieros y que donde el recurso es shale."
   ]
  },
  {
   "cell_type": "code",
   "execution_count": 6,
   "id": "4e09fa86",
   "metadata": {},
   "outputs": [
    {
     "data": {
      "text/plain": [
       "(85046, 40)"
      ]
     },
     "execution_count": 6,
     "metadata": {},
     "output_type": "execute_result"
    }
   ],
   "source": [
    "dfP.drop(dfP[dfP['tipopozo']!= \"Petrolífero\"].index, inplace=True)\n",
    "dfP.drop(dfP[dfP['sub_tipo_recurso']!= \"SHALE\"].index, inplace=True)\n",
    "dfP.shape"
   ]
  },
  {
   "cell_type": "markdown",
   "id": "d902937e",
   "metadata": {},
   "source": [
    "Como mencionamos anteriormente, procederemos a unir ambos datasets usando la función .merge. Como en ambas conjuntos de datos existen varias columnas que son comunes, primero las identificaremos con un sufijo (_DS_OG) y luego procederemos a eliminarlas. Calcularemos previamente la producción acumulada de petróleo, gas y agua para que ya nos queden incluidas en el dataset. "
   ]
  },
  {
   "cell_type": "code",
   "execution_count": 7,
   "id": "fbdc2d2b",
   "metadata": {},
   "outputs": [],
   "source": [
    "# Transformamos fecha_data en formato fecha\n",
    "dfP['fecha_data'] = pd.to_datetime(dfP['fecha_data'])\n",
    "\n",
    "# Agrupamos los registros por pozo y sumamos la producción de petróleo acumulada\n",
    "dfP['prod_pet_acum'] = dfP.groupby('sigla')['prod_pet'].cumsum()\n",
    "\n",
    "# Agrupamos los registros por pozo y sumamos la producción de gas acumulada\n",
    "dfP['prod_gas_acum'] = dfP.groupby('sigla')['prod_gas'].cumsum()\n",
    "\n",
    "# Agrupamos los registros por pozo y sumamos la producción de agua acumulada\n",
    "dfP['prod_agua_acum'] = dfP.groupby('sigla')['prod_agua'].cumsum()"
   ]
  },
  {
   "cell_type": "markdown",
   "id": "8c27ea9c",
   "metadata": {},
   "source": [
    "Crearemos ademas una variable llamada \"meses_produccion\" que nos permitira luego filtrar la producción por el tiempo que ha durado la misma."
   ]
  },
  {
   "cell_type": "code",
   "execution_count": 8,
   "id": "d2752103",
   "metadata": {},
   "outputs": [],
   "source": [
    "dfP['meses_produccion'] = ((dfP['fecha_data'] - dfP.groupby('sigla')['fecha_data'].transform('min')) / np.timedelta64(1, 'M')).astype(int) + 1"
   ]
  },
  {
   "cell_type": "markdown",
   "id": "808680cb",
   "metadata": {},
   "source": [
    "Una vez realizado esto, porcedemos a hacer el merge de ambos datasets."
   ]
  },
  {
   "cell_type": "code",
   "execution_count": 9,
   "id": "3a2c8bf8",
   "metadata": {},
   "outputs": [],
   "source": [
    "df = pd.merge(dfP, DS_OG, on='idpozo', how='inner', suffixes=('', '_DS_OG'))\n",
    "df = df.filter(regex='^(?!.*DS_OG).*')"
   ]
  },
  {
   "cell_type": "markdown",
   "id": "9ca81de9",
   "metadata": {},
   "source": [
    "Tambien eliminaremos algunas variables que no nos dan información relevante para nuestro analisis."
   ]
  },
  {
   "cell_type": "code",
   "execution_count": 10,
   "id": "0819674b",
   "metadata": {
    "scrolled": true
   },
   "outputs": [
    {
     "data": {
      "text/plain": [
       "(71466, 63)"
      ]
     },
     "execution_count": 10,
     "metadata": {},
     "output_type": "execute_result"
    }
   ],
   "source": [
    "df=df.drop(['rectificado','habilitado','observaciones','vida_util','idusuario','mes_carga','anio_carga'], axis=1)\n",
    "df.shape"
   ]
  },
  {
   "cell_type": "markdown",
   "id": "6590fb14",
   "metadata": {},
   "source": [
    "Finalmente observemos algunos datos de nuestro dataset integrando datos de producción y fractura y con el cual realizaremos nuestro analisis."
   ]
  },
  {
   "cell_type": "code",
   "execution_count": 11,
   "id": "5b687259",
   "metadata": {},
   "outputs": [
    {
     "data": {
      "text/html": [
       "<div>\n",
       "<style scoped>\n",
       "    .dataframe tbody tr th:only-of-type {\n",
       "        vertical-align: middle;\n",
       "    }\n",
       "\n",
       "    .dataframe tbody tr th {\n",
       "        vertical-align: top;\n",
       "    }\n",
       "\n",
       "    .dataframe thead th {\n",
       "        text-align: right;\n",
       "    }\n",
       "</style>\n",
       "<table border=\"1\" class=\"dataframe\">\n",
       "  <thead>\n",
       "    <tr style=\"text-align: right;\">\n",
       "      <th></th>\n",
       "      <th>prod_agua</th>\n",
       "      <th>empresa</th>\n",
       "      <th>sub_tipo_recurso</th>\n",
       "      <th>coordenaday</th>\n",
       "      <th>iny_otro</th>\n",
       "      <th>idareayacimiento</th>\n",
       "      <th>tef</th>\n",
       "      <th>tipopozo</th>\n",
       "      <th>iny_agua</th>\n",
       "      <th>areapermisoconcesion</th>\n",
       "      <th>...</th>\n",
       "      <th>tipo_reservorio</th>\n",
       "      <th>fecha_fin_fractura</th>\n",
       "      <th>mes_if</th>\n",
       "      <th>anio_if</th>\n",
       "      <th>empresa_informante</th>\n",
       "      <th>formacion_productiva</th>\n",
       "      <th>yacimiento</th>\n",
       "      <th>longitud_etapa</th>\n",
       "      <th>intensidad_fluido</th>\n",
       "      <th>intensidad_arena</th>\n",
       "    </tr>\n",
       "  </thead>\n",
       "  <tbody>\n",
       "    <tr>\n",
       "      <th>0</th>\n",
       "      <td>52.02</td>\n",
       "      <td>YPF S.A.</td>\n",
       "      <td>SHALE</td>\n",
       "      <td>-38.360868</td>\n",
       "      <td>0</td>\n",
       "      <td>LCAM</td>\n",
       "      <td>27.71</td>\n",
       "      <td>Petrolífero</td>\n",
       "      <td>0.0</td>\n",
       "      <td>LOMA CAMPANA</td>\n",
       "      <td>...</td>\n",
       "      <td>NO CONVENCIONAL</td>\n",
       "      <td>2015-10-23T00:00:00</td>\n",
       "      <td>10</td>\n",
       "      <td>2015</td>\n",
       "      <td>YPF S.A.</td>\n",
       "      <td>vaca muerta</td>\n",
       "      <td>LOMA CAMPANA</td>\n",
       "      <td>75.98</td>\n",
       "      <td>24.564058</td>\n",
       "      <td>2110.652072</td>\n",
       "    </tr>\n",
       "    <tr>\n",
       "      <th>1</th>\n",
       "      <td>0.00</td>\n",
       "      <td>YPF S.A.</td>\n",
       "      <td>SHALE</td>\n",
       "      <td>-38.360868</td>\n",
       "      <td>0</td>\n",
       "      <td>LCAM</td>\n",
       "      <td>31.00</td>\n",
       "      <td>Petrolífero</td>\n",
       "      <td>0.0</td>\n",
       "      <td>LOMA CAMPANA</td>\n",
       "      <td>...</td>\n",
       "      <td>NO CONVENCIONAL</td>\n",
       "      <td>2015-10-23T00:00:00</td>\n",
       "      <td>10</td>\n",
       "      <td>2015</td>\n",
       "      <td>YPF S.A.</td>\n",
       "      <td>vaca muerta</td>\n",
       "      <td>LOMA CAMPANA</td>\n",
       "      <td>75.98</td>\n",
       "      <td>24.564058</td>\n",
       "      <td>2110.652072</td>\n",
       "    </tr>\n",
       "    <tr>\n",
       "      <th>2</th>\n",
       "      <td>822.06</td>\n",
       "      <td>YPF S.A.</td>\n",
       "      <td>SHALE</td>\n",
       "      <td>-38.360868</td>\n",
       "      <td>0</td>\n",
       "      <td>LCAM</td>\n",
       "      <td>31.00</td>\n",
       "      <td>Petrolífero</td>\n",
       "      <td>0.0</td>\n",
       "      <td>LOMA CAMPANA</td>\n",
       "      <td>...</td>\n",
       "      <td>NO CONVENCIONAL</td>\n",
       "      <td>2015-10-23T00:00:00</td>\n",
       "      <td>10</td>\n",
       "      <td>2015</td>\n",
       "      <td>YPF S.A.</td>\n",
       "      <td>vaca muerta</td>\n",
       "      <td>LOMA CAMPANA</td>\n",
       "      <td>75.98</td>\n",
       "      <td>24.564058</td>\n",
       "      <td>2110.652072</td>\n",
       "    </tr>\n",
       "    <tr>\n",
       "      <th>3</th>\n",
       "      <td>140.07</td>\n",
       "      <td>YPF S.A.</td>\n",
       "      <td>SHALE</td>\n",
       "      <td>-38.360868</td>\n",
       "      <td>0</td>\n",
       "      <td>LCAM</td>\n",
       "      <td>30.17</td>\n",
       "      <td>Petrolífero</td>\n",
       "      <td>0.0</td>\n",
       "      <td>LOMA CAMPANA</td>\n",
       "      <td>...</td>\n",
       "      <td>NO CONVENCIONAL</td>\n",
       "      <td>2015-10-23T00:00:00</td>\n",
       "      <td>10</td>\n",
       "      <td>2015</td>\n",
       "      <td>YPF S.A.</td>\n",
       "      <td>vaca muerta</td>\n",
       "      <td>LOMA CAMPANA</td>\n",
       "      <td>75.98</td>\n",
       "      <td>24.564058</td>\n",
       "      <td>2110.652072</td>\n",
       "    </tr>\n",
       "    <tr>\n",
       "      <th>4</th>\n",
       "      <td>395.12</td>\n",
       "      <td>YPF S.A.</td>\n",
       "      <td>SHALE</td>\n",
       "      <td>-38.360868</td>\n",
       "      <td>0</td>\n",
       "      <td>LCAM</td>\n",
       "      <td>31.00</td>\n",
       "      <td>Petrolífero</td>\n",
       "      <td>0.0</td>\n",
       "      <td>LOMA CAMPANA</td>\n",
       "      <td>...</td>\n",
       "      <td>NO CONVENCIONAL</td>\n",
       "      <td>2015-10-23T00:00:00</td>\n",
       "      <td>10</td>\n",
       "      <td>2015</td>\n",
       "      <td>YPF S.A.</td>\n",
       "      <td>vaca muerta</td>\n",
       "      <td>LOMA CAMPANA</td>\n",
       "      <td>75.98</td>\n",
       "      <td>24.564058</td>\n",
       "      <td>2110.652072</td>\n",
       "    </tr>\n",
       "  </tbody>\n",
       "</table>\n",
       "<p>5 rows × 63 columns</p>\n",
       "</div>"
      ],
      "text/plain": [
       "   prod_agua   empresa sub_tipo_recurso  coordenaday  iny_otro  \\\n",
       "0      52.02  YPF S.A.            SHALE   -38.360868         0   \n",
       "1       0.00  YPF S.A.            SHALE   -38.360868         0   \n",
       "2     822.06  YPF S.A.            SHALE   -38.360868         0   \n",
       "3     140.07  YPF S.A.            SHALE   -38.360868         0   \n",
       "4     395.12  YPF S.A.            SHALE   -38.360868         0   \n",
       "\n",
       "  idareayacimiento    tef     tipopozo  iny_agua areapermisoconcesion  ...  \\\n",
       "0             LCAM  27.71  Petrolífero       0.0         LOMA CAMPANA  ...   \n",
       "1             LCAM  31.00  Petrolífero       0.0         LOMA CAMPANA  ...   \n",
       "2             LCAM  31.00  Petrolífero       0.0         LOMA CAMPANA  ...   \n",
       "3             LCAM  30.17  Petrolífero       0.0         LOMA CAMPANA  ...   \n",
       "4             LCAM  31.00  Petrolífero       0.0         LOMA CAMPANA  ...   \n",
       "\n",
       "   tipo_reservorio   fecha_fin_fractura mes_if  anio_if empresa_informante  \\\n",
       "0  NO CONVENCIONAL  2015-10-23T00:00:00     10     2015           YPF S.A.   \n",
       "1  NO CONVENCIONAL  2015-10-23T00:00:00     10     2015           YPF S.A.   \n",
       "2  NO CONVENCIONAL  2015-10-23T00:00:00     10     2015           YPF S.A.   \n",
       "3  NO CONVENCIONAL  2015-10-23T00:00:00     10     2015           YPF S.A.   \n",
       "4  NO CONVENCIONAL  2015-10-23T00:00:00     10     2015           YPF S.A.   \n",
       "\n",
       "  formacion_productiva    yacimiento longitud_etapa intensidad_fluido  \\\n",
       "0          vaca muerta  LOMA CAMPANA          75.98         24.564058   \n",
       "1          vaca muerta  LOMA CAMPANA          75.98         24.564058   \n",
       "2          vaca muerta  LOMA CAMPANA          75.98         24.564058   \n",
       "3          vaca muerta  LOMA CAMPANA          75.98         24.564058   \n",
       "4          vaca muerta  LOMA CAMPANA          75.98         24.564058   \n",
       "\n",
       "  intensidad_arena  \n",
       "0      2110.652072  \n",
       "1      2110.652072  \n",
       "2      2110.652072  \n",
       "3      2110.652072  \n",
       "4      2110.652072  \n",
       "\n",
       "[5 rows x 63 columns]"
      ]
     },
     "execution_count": 11,
     "metadata": {},
     "output_type": "execute_result"
    }
   ],
   "source": [
    "df.head()"
   ]
  },
  {
   "cell_type": "code",
   "execution_count": 12,
   "id": "b02b7fa7",
   "metadata": {},
   "outputs": [
    {
     "name": "stdout",
     "output_type": "stream",
     "text": [
      "<class 'pandas.core.frame.DataFrame'>\n",
      "Int64Index: 71466 entries, 0 to 71465\n",
      "Data columns (total 63 columns):\n",
      " #   Column                        Non-Null Count  Dtype         \n",
      "---  ------                        --------------  -----         \n",
      " 0   prod_agua                     71466 non-null  float64       \n",
      " 1   empresa                       71466 non-null  object        \n",
      " 2   sub_tipo_recurso              71466 non-null  object        \n",
      " 3   coordenaday                   71466 non-null  float64       \n",
      " 4   iny_otro                      71466 non-null  int64         \n",
      " 5   idareayacimiento              71466 non-null  object        \n",
      " 6   tef                           71466 non-null  float64       \n",
      " 7   tipopozo                      71466 non-null  object        \n",
      " 8   iny_agua                      71466 non-null  float64       \n",
      " 9   areapermisoconcesion          71466 non-null  object        \n",
      " 10  iny_co2                       71466 non-null  int64         \n",
      " 11  prod_gas                      71466 non-null  float64       \n",
      " 12  tipoestado                    71466 non-null  object        \n",
      " 13  coordenadax                   71466 non-null  float64       \n",
      " 14  provincia                     71466 non-null  object        \n",
      " 15  formacion                     71466 non-null  object        \n",
      " 16  idpozo                        71466 non-null  int64         \n",
      " 17  fechaingreso                  71466 non-null  object        \n",
      " 18  tipo_de_recurso               71466 non-null  object        \n",
      " 19  idareapermisoconcesion        71466 non-null  object        \n",
      " 20  sigla                         71466 non-null  object        \n",
      " 21  anio                          71466 non-null  int64         \n",
      " 22  tipoextraccion                71466 non-null  object        \n",
      " 23  areayacimiento                71466 non-null  object        \n",
      " 24  subclasificacion              71466 non-null  object        \n",
      " 25  prod_pet                      71466 non-null  float64       \n",
      " 26  mes                           71466 non-null  int64         \n",
      " 27  iny_gas                       71466 non-null  float64       \n",
      " 28  cuenca                        71466 non-null  object        \n",
      " 29  profundidad                   71466 non-null  float64       \n",
      " 30  idempresa                     71466 non-null  object        \n",
      " 31  clasificacion                 71466 non-null  object        \n",
      " 32  formprod                      71466 non-null  object        \n",
      " 33  fecha_data                    71466 non-null  datetime64[ns]\n",
      " 34  proyecto                      71466 non-null  object        \n",
      " 35  prod_pet_acum                 71466 non-null  float64       \n",
      " 36  prod_gas_acum                 71466 non-null  float64       \n",
      " 37  prod_agua_acum                71466 non-null  float64       \n",
      " 38  meses_produccion              71466 non-null  int32         \n",
      " 39  fecha_inicio_fractura         71466 non-null  object        \n",
      " 40  LRH                           71466 non-null  float64       \n",
      " 41  presion_maxima_psi            71466 non-null  float64       \n",
      " 42  co2_inyectado_m3              71466 non-null  float64       \n",
      " 43  cantidad_fracturas            71466 non-null  int64         \n",
      " 44  anio_ff                       71466 non-null  int64         \n",
      " 45  mes_ff                        71466 non-null  int64         \n",
      " 46  id_base_fractura_adjiv        71466 non-null  int64         \n",
      " 47  tipo_terminacion              71466 non-null  object        \n",
      " 48  agua_inyectada_m3             71466 non-null  float64       \n",
      " 49  potencia_equipos_fractura_hp  71466 non-null  float64       \n",
      " 50  arena_bombeada_nacional_tn    71466 non-null  float64       \n",
      " 51  subtipo_reservorio            71466 non-null  object        \n",
      " 52  arena_bombeada_importada_tn   71466 non-null  float64       \n",
      " 53  tipo_reservorio               71466 non-null  object        \n",
      " 54  fecha_fin_fractura            71466 non-null  object        \n",
      " 55  mes_if                        71466 non-null  int64         \n",
      " 56  anio_if                       71466 non-null  int64         \n",
      " 57  empresa_informante            71466 non-null  object        \n",
      " 58  formacion_productiva          71466 non-null  object        \n",
      " 59  yacimiento                    71466 non-null  object        \n",
      " 60  longitud_etapa                71466 non-null  float64       \n",
      " 61  intensidad_fluido             71448 non-null  float64       \n",
      " 62  intensidad_arena              71436 non-null  float64       \n",
      "dtypes: datetime64[ns](1), float64(22), int32(1), int64(11), object(28)\n",
      "memory usage: 34.6+ MB\n"
     ]
    }
   ],
   "source": [
    "df.info()"
   ]
  },
  {
   "cell_type": "markdown",
   "id": "a23f05b8",
   "metadata": {},
   "source": [
    "## 🔨 DATA WRANGLING"
   ]
  },
  {
   "cell_type": "markdown",
   "id": "f5fea243",
   "metadata": {},
   "source": [
    "#### Identificación de datos nulos:"
   ]
  },
  {
   "cell_type": "code",
   "execution_count": 13,
   "id": "c45b375a",
   "metadata": {
    "scrolled": true
   },
   "outputs": [
    {
     "data": {
      "text/plain": [
       "<AxesSubplot:>"
      ]
     },
     "execution_count": 13,
     "metadata": {},
     "output_type": "execute_result"
    },
    {
     "data": {
      "image/png": "[encoded data removed]",
      "text/plain": [
       "<Figure size 1800x720 with 2 Axes>"
      ]
     },
     "metadata": {
      "needs_background": "light"
     },
     "output_type": "display_data"
    }
   ],
   "source": [
    "msno.matrix(df,color = (0,0,0))"
   ]
  },
  {
   "cell_type": "markdown",
   "id": "8873a3dc",
   "metadata": {},
   "source": [
    "No se obervan valores nulos en nuestro dataset. "
   ]
  },
  {
   "cell_type": "markdown",
   "id": "faece174",
   "metadata": {},
   "source": [
    "##### Identificación de valores duplicados en nuestro dataset:"
   ]
  },
  {
   "cell_type": "code",
   "execution_count": 14,
   "id": "5389ae5a",
   "metadata": {},
   "outputs": [
    {
     "data": {
      "text/plain": [
       "0"
      ]
     },
     "execution_count": 14,
     "metadata": {},
     "output_type": "execute_result"
    }
   ],
   "source": [
    "df.duplicated().sum()"
   ]
  },
  {
   "cell_type": "markdown",
   "id": "5d667b2c",
   "metadata": {},
   "source": [
    "Como observamos no existen valores duplicados. "
   ]
  },
  {
   "cell_type": "markdown",
   "id": "6d0e98d7",
   "metadata": {},
   "source": [
    "Debido a que nalizaremos los pozos horizontales, procederemos a eliminar los registros correspondientes a los pozos verticales que son los que tienen una longitud de rama horizontal menor o igual a cero."
   ]
  },
  {
   "cell_type": "code",
   "execution_count": 15,
   "id": "0af380a3",
   "metadata": {},
   "outputs": [],
   "source": [
    "df.drop(df[df['LRH']<=0].index, inplace=True)"
   ]
  },
  {
   "cell_type": "code",
   "execution_count": 16,
   "id": "c743aa58",
   "metadata": {},
   "outputs": [
    {
     "data": {
      "text/plain": [
       "(31681, 63)"
      ]
     },
     "execution_count": 16,
     "metadata": {},
     "output_type": "execute_result"
    }
   ],
   "source": [
    "df.shape"
   ]
  },
  {
   "cell_type": "code",
   "execution_count": null,
   "id": "23962f08",
   "metadata": {},
   "outputs": [],
   "source": []
  }
 ],
 "metadata": {
  "kernelspec": {
   "display_name": "Python 3 (ipykernel)",
   "language": "python",
   "name": "python3"
  },
  "language_info": {
   "codemirror_mode": {
    "name": "ipython",
    "version": 3
   },
   "file_extension": ".py",
   "mimetype": "text/x-python",
   "name": "python",
   "nbconvert_exporter": "python",
   "pygments_lexer": "ipython3",
   "version": "3.9.12"
  }
 },
 "nbformat": 4,
 "nbformat_minor": 5
}
