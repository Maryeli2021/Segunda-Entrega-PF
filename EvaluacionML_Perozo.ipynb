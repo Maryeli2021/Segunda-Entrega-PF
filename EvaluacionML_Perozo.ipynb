{
 "cells": [
  {
   "cell_type": "markdown",
   "id": "42207e4c",
   "metadata": {},
   "source": [
    "# ANALISIS DE PRODUCCIÓN EN POZOS NO CONVENCIONALES"
   ]
  },
  {
   "cell_type": "code",
   "execution_count": 1,
   "id": "cac0fa90",
   "metadata": {},
   "outputs": [],
   "source": [
    "import pandas as pd\n",
    "import numpy as np\n",
    "import statistics as stat\n",
    "import seaborn as sns\n",
    "import matplotlib as mpl\n",
    "import matplotlib.pyplot as plt\n",
    "import missingno as msno\n",
    "from sklearn.cluster import DBSCAN\n",
    "from sklearn.preprocessing import StandardScaler\n",
    "from sklearn.cluster import KMeans\n",
    "from sklearn.model_selection import train_test_split\n",
    "from sklearn.decomposition import PCA\n",
    "from sklearn.pipeline import make_pipeline"
   ]
  },
  {
   "cell_type": "markdown",
   "id": "09252bb7",
   "metadata": {},
   "source": [
    "**CARGA DE DATOS**\n",
    "\n",
    "Importamos los datos de la \"Segunda Entrega del Proyecto Final\" para ahora realizar el Future Engineering."
   ]
  },
  {
   "cell_type": "code",
   "execution_count": 2,
   "id": "1c6b1428",
   "metadata": {},
   "outputs": [
    {
     "data": {
      "text/html": [
       "<div>\n",
       "<style scoped>\n",
       "    .dataframe tbody tr th:only-of-type {\n",
       "        vertical-align: middle;\n",
       "    }\n",
       "\n",
       "    .dataframe tbody tr th {\n",
       "        vertical-align: top;\n",
       "    }\n",
       "\n",
       "    .dataframe thead th {\n",
       "        text-align: right;\n",
       "    }\n",
       "</style>\n",
       "<table border=\"1\" class=\"dataframe\">\n",
       "  <thead>\n",
       "    <tr style=\"text-align: right;\">\n",
       "      <th></th>\n",
       "      <th>empresa</th>\n",
       "      <th>sigla</th>\n",
       "      <th>tipoextraccion</th>\n",
       "      <th>yacimiento</th>\n",
       "      <th>Producción_Normalizada_por_Concentracion</th>\n",
       "      <th>Producción_Normalizada_por_Etapa</th>\n",
       "      <th>prod_pet_acum</th>\n",
       "      <th>agua_inyectada_m3</th>\n",
       "      <th>cantidad_fracturas</th>\n",
       "      <th>Arena_total</th>\n",
       "      <th>arena_bombeada_nacional_tn</th>\n",
       "      <th>intensidad_fluido</th>\n",
       "      <th>LRH</th>\n",
       "      <th>prod_pet</th>\n",
       "      <th>prod_gas_acum</th>\n",
       "      <th>anio_ff</th>\n",
       "      <th>intensidad_arena</th>\n",
       "      <th>anio</th>\n",
       "    </tr>\n",
       "  </thead>\n",
       "  <tbody>\n",
       "    <tr>\n",
       "      <th>0</th>\n",
       "      <td>AMERICAS PETROGAS ARGENTINA S.A.</td>\n",
       "      <td>AME.Nq.LTE.x-2(h)</td>\n",
       "      <td>Surgencia Natural</td>\n",
       "      <td>LOS TOLDOS ESTE</td>\n",
       "      <td>262.585340</td>\n",
       "      <td>5251.706798</td>\n",
       "      <td>18679.101</td>\n",
       "      <td>20581.9</td>\n",
       "      <td>20</td>\n",
       "      <td>4.17722</td>\n",
       "      <td>494.28</td>\n",
       "      <td>26.306623</td>\n",
       "      <td>1500.00</td>\n",
       "      <td>940.685</td>\n",
       "      <td>3086.74860</td>\n",
       "      <td>2016</td>\n",
       "      <td>1871.330898</td>\n",
       "      <td>2018</td>\n",
       "    </tr>\n",
       "    <tr>\n",
       "      <th>1</th>\n",
       "      <td>CHEVRON ARGENTINA S.R.L.</td>\n",
       "      <td>CHA.Nq.ET-2022h</td>\n",
       "      <td>Sin Sistema de Extracción</td>\n",
       "      <td>EL TRAPIAL</td>\n",
       "      <td>556.752034</td>\n",
       "      <td>8351.280513</td>\n",
       "      <td>27287.760</td>\n",
       "      <td>26092.5</td>\n",
       "      <td>15</td>\n",
       "      <td>3.64870</td>\n",
       "      <td>0.00</td>\n",
       "      <td>41.921512</td>\n",
       "      <td>1193.30</td>\n",
       "      <td>2799.170</td>\n",
       "      <td>11326.36114</td>\n",
       "      <td>2020</td>\n",
       "      <td>2054.674424</td>\n",
       "      <td>2021</td>\n",
       "    </tr>\n",
       "    <tr>\n",
       "      <th>2</th>\n",
       "      <td>CHEVRON ARGENTINA S.R.L.</td>\n",
       "      <td>CHA.Nq.ET-2022h</td>\n",
       "      <td>Sin Sistema de Extracción</td>\n",
       "      <td>EL TRAPIAL</td>\n",
       "      <td>607.890305</td>\n",
       "      <td>9118.354578</td>\n",
       "      <td>29794.170</td>\n",
       "      <td>26092.5</td>\n",
       "      <td>15</td>\n",
       "      <td>3.64870</td>\n",
       "      <td>0.00</td>\n",
       "      <td>41.921512</td>\n",
       "      <td>1193.30</td>\n",
       "      <td>2506.410</td>\n",
       "      <td>12538.65408</td>\n",
       "      <td>2020</td>\n",
       "      <td>2054.674424</td>\n",
       "      <td>2021</td>\n",
       "    </tr>\n",
       "    <tr>\n",
       "      <th>3</th>\n",
       "      <td>CHEVRON ARGENTINA S.R.L.</td>\n",
       "      <td>CHA.Nq.ET-2023h</td>\n",
       "      <td>Sin Sistema de Extracción</td>\n",
       "      <td>EL TRAPIAL</td>\n",
       "      <td>507.507179</td>\n",
       "      <td>15732.722553</td>\n",
       "      <td>24632.500</td>\n",
       "      <td>53804.7</td>\n",
       "      <td>31</td>\n",
       "      <td>7.45080</td>\n",
       "      <td>0.00</td>\n",
       "      <td>52.008488</td>\n",
       "      <td>1983.43</td>\n",
       "      <td>2125.820</td>\n",
       "      <td>9284.19990</td>\n",
       "      <td>2020</td>\n",
       "      <td>2524.297441</td>\n",
       "      <td>2021</td>\n",
       "    </tr>\n",
       "    <tr>\n",
       "      <th>4</th>\n",
       "      <td>CHEVRON ARGENTINA S.R.L.</td>\n",
       "      <td>CHA.Nq.ET-2023h</td>\n",
       "      <td>Sin Sistema de Extracción</td>\n",
       "      <td>EL TRAPIAL</td>\n",
       "      <td>546.371526</td>\n",
       "      <td>16937.517298</td>\n",
       "      <td>26518.830</td>\n",
       "      <td>53804.7</td>\n",
       "      <td>31</td>\n",
       "      <td>7.45080</td>\n",
       "      <td>0.00</td>\n",
       "      <td>52.008488</td>\n",
       "      <td>1983.43</td>\n",
       "      <td>1886.330</td>\n",
       "      <td>10083.14587</td>\n",
       "      <td>2020</td>\n",
       "      <td>2524.297441</td>\n",
       "      <td>2021</td>\n",
       "    </tr>\n",
       "  </tbody>\n",
       "</table>\n",
       "</div>"
      ],
      "text/plain": [
       "                            empresa              sigla  \\\n",
       "0  AMERICAS PETROGAS ARGENTINA S.A.  AME.Nq.LTE.x-2(h)   \n",
       "1          CHEVRON ARGENTINA S.R.L.    CHA.Nq.ET-2022h   \n",
       "2          CHEVRON ARGENTINA S.R.L.    CHA.Nq.ET-2022h   \n",
       "3          CHEVRON ARGENTINA S.R.L.    CHA.Nq.ET-2023h   \n",
       "4          CHEVRON ARGENTINA S.R.L.    CHA.Nq.ET-2023h   \n",
       "\n",
       "              tipoextraccion       yacimiento  \\\n",
       "0          Surgencia Natural  LOS TOLDOS ESTE   \n",
       "1  Sin Sistema de Extracción       EL TRAPIAL   \n",
       "2  Sin Sistema de Extracción       EL TRAPIAL   \n",
       "3  Sin Sistema de Extracción       EL TRAPIAL   \n",
       "4  Sin Sistema de Extracción       EL TRAPIAL   \n",
       "\n",
       "   Producción_Normalizada_por_Concentracion  Producción_Normalizada_por_Etapa  \\\n",
       "0                                262.585340                       5251.706798   \n",
       "1                                556.752034                       8351.280513   \n",
       "2                                607.890305                       9118.354578   \n",
       "3                                507.507179                      15732.722553   \n",
       "4                                546.371526                      16937.517298   \n",
       "\n",
       "   prod_pet_acum  agua_inyectada_m3  cantidad_fracturas  Arena_total  \\\n",
       "0      18679.101            20581.9                  20      4.17722   \n",
       "1      27287.760            26092.5                  15      3.64870   \n",
       "2      29794.170            26092.5                  15      3.64870   \n",
       "3      24632.500            53804.7                  31      7.45080   \n",
       "4      26518.830            53804.7                  31      7.45080   \n",
       "\n",
       "   arena_bombeada_nacional_tn  intensidad_fluido      LRH  prod_pet  \\\n",
       "0                      494.28          26.306623  1500.00   940.685   \n",
       "1                        0.00          41.921512  1193.30  2799.170   \n",
       "2                        0.00          41.921512  1193.30  2506.410   \n",
       "3                        0.00          52.008488  1983.43  2125.820   \n",
       "4                        0.00          52.008488  1983.43  1886.330   \n",
       "\n",
       "   prod_gas_acum  anio_ff  intensidad_arena  anio  \n",
       "0     3086.74860     2016       1871.330898  2018  \n",
       "1    11326.36114     2020       2054.674424  2021  \n",
       "2    12538.65408     2020       2054.674424  2021  \n",
       "3     9284.19990     2020       2524.297441  2021  \n",
       "4    10083.14587     2020       2524.297441  2021  "
      ]
     },
     "execution_count": 2,
     "metadata": {},
     "output_type": "execute_result"
    }
   ],
   "source": [
    "df_ML=pd.read_excel('df_ML.xlsx')\n",
    "df_ML.head()"
   ]
  },
  {
   "cell_type": "markdown",
   "id": "7579e814",
   "metadata": {},
   "source": [
    "## FUTURE ENGINEERING"
   ]
  },
  {
   "cell_type": "markdown",
   "id": "83024d0c",
   "metadata": {},
   "source": [
    "A continuación realicemos un conjunto de pasos con el proposito de armar un dataset que usaremos luego para nuestro modelo predictivo. Partiendo del conjunto de datos con los registros hasta el mes 12 (primer año de produccón) tomaremos solo las variables númericas que mostraron mejor correlacion con la varible de interes (prod_pet_acum) y las las variables categoricas que nos ayudan a definir con mas facilidad las correlaciones con la varible destacada. Transformaremos a variables númericas: \"empresa_informante\", \"yacimientos\" y \"tipoextraccion\" que fueron las varibles que usamos previamente en en los  gráficos describir cuales eran los pozos con mejores acumuladas de petróleo."
   ]
  },
  {
   "cell_type": "markdown",
   "id": "95c8a8a5",
   "metadata": {},
   "source": [
    "**ENCODING**"
   ]
  },
  {
   "cell_type": "code",
   "execution_count": 3,
   "id": "88ea5772",
   "metadata": {},
   "outputs": [
    {
     "name": "stdout",
     "output_type": "stream",
     "text": [
      "Index(['empresa', 'sigla', 'tipoextraccion', 'yacimiento'], dtype='object')\n"
     ]
    }
   ],
   "source": [
    "tipos = df_ML.dtypes\n",
    "no_numericas = tipos[tipos == object].index\n",
    "print(no_numericas)"
   ]
  },
  {
   "cell_type": "code",
   "execution_count": 4,
   "id": "230a44db",
   "metadata": {},
   "outputs": [
    {
     "data": {
      "text/plain": [
       "(886, 18)"
      ]
     },
     "execution_count": 4,
     "metadata": {},
     "output_type": "execute_result"
    }
   ],
   "source": [
    "df_ML.shape"
   ]
  },
  {
   "cell_type": "code",
   "execution_count": 5,
   "id": "e78a40f1",
   "metadata": {},
   "outputs": [],
   "source": [
    "def createdummies(df_ML,varname):\n",
    "    dummy = pd.get_dummies(df_ML[varname], prefix = varname)\n",
    "    df_ML = df_ML.drop(varname, axis = 1)\n",
    "    df_ML = pd.concat([df_ML, dummy], axis = 1)\n",
    "    return df_ML"
   ]
  },
  {
   "cell_type": "code",
   "execution_count": 6,
   "id": "417c3c11",
   "metadata": {},
   "outputs": [
    {
     "data": {
      "text/html": [
       "<div>\n",
       "<style scoped>\n",
       "    .dataframe tbody tr th:only-of-type {\n",
       "        vertical-align: middle;\n",
       "    }\n",
       "\n",
       "    .dataframe tbody tr th {\n",
       "        vertical-align: top;\n",
       "    }\n",
       "\n",
       "    .dataframe thead th {\n",
       "        text-align: right;\n",
       "    }\n",
       "</style>\n",
       "<table border=\"1\" class=\"dataframe\">\n",
       "  <thead>\n",
       "    <tr style=\"text-align: right;\">\n",
       "      <th></th>\n",
       "      <th>sigla</th>\n",
       "      <th>Producción_Normalizada_por_Concentracion</th>\n",
       "      <th>Producción_Normalizada_por_Etapa</th>\n",
       "      <th>prod_pet_acum</th>\n",
       "      <th>agua_inyectada_m3</th>\n",
       "      <th>cantidad_fracturas</th>\n",
       "      <th>Arena_total</th>\n",
       "      <th>arena_bombeada_nacional_tn</th>\n",
       "      <th>intensidad_fluido</th>\n",
       "      <th>LRH</th>\n",
       "      <th>...</th>\n",
       "      <th>yacimiento_NARAMBUENA</th>\n",
       "      <th>yacimiento_RINCON DE ARANDA</th>\n",
       "      <th>yacimiento_SAN ROQUE VACA MUERTA</th>\n",
       "      <th>yacimiento_SIERRA BARROSA</th>\n",
       "      <th>yacimiento_SIERRAS BLANCAS</th>\n",
       "      <th>tipoextraccion_Bombeo Mecánico</th>\n",
       "      <th>tipoextraccion_Gas Lift</th>\n",
       "      <th>tipoextraccion_Plunger Lift</th>\n",
       "      <th>tipoextraccion_Sin Sistema de Extracción</th>\n",
       "      <th>tipoextraccion_Surgencia Natural</th>\n",
       "    </tr>\n",
       "  </thead>\n",
       "  <tbody>\n",
       "    <tr>\n",
       "      <th>0</th>\n",
       "      <td>AME.Nq.LTE.x-2(h)</td>\n",
       "      <td>262.585340</td>\n",
       "      <td>5251.706798</td>\n",
       "      <td>18679.101</td>\n",
       "      <td>20581.90000</td>\n",
       "      <td>20</td>\n",
       "      <td>4.177220</td>\n",
       "      <td>494.2800</td>\n",
       "      <td>26.306623</td>\n",
       "      <td>1500.00</td>\n",
       "      <td>...</td>\n",
       "      <td>0</td>\n",
       "      <td>0</td>\n",
       "      <td>0</td>\n",
       "      <td>0</td>\n",
       "      <td>0</td>\n",
       "      <td>0</td>\n",
       "      <td>0</td>\n",
       "      <td>0</td>\n",
       "      <td>0</td>\n",
       "      <td>1</td>\n",
       "    </tr>\n",
       "    <tr>\n",
       "      <th>1</th>\n",
       "      <td>CHA.Nq.ET-2022h</td>\n",
       "      <td>556.752034</td>\n",
       "      <td>8351.280513</td>\n",
       "      <td>27287.760</td>\n",
       "      <td>26092.50000</td>\n",
       "      <td>15</td>\n",
       "      <td>3.648700</td>\n",
       "      <td>0.0000</td>\n",
       "      <td>41.921512</td>\n",
       "      <td>1193.30</td>\n",
       "      <td>...</td>\n",
       "      <td>0</td>\n",
       "      <td>0</td>\n",
       "      <td>0</td>\n",
       "      <td>0</td>\n",
       "      <td>0</td>\n",
       "      <td>0</td>\n",
       "      <td>0</td>\n",
       "      <td>0</td>\n",
       "      <td>1</td>\n",
       "      <td>0</td>\n",
       "    </tr>\n",
       "    <tr>\n",
       "      <th>2</th>\n",
       "      <td>CHA.Nq.ET-2022h</td>\n",
       "      <td>607.890305</td>\n",
       "      <td>9118.354578</td>\n",
       "      <td>29794.170</td>\n",
       "      <td>26092.50000</td>\n",
       "      <td>15</td>\n",
       "      <td>3.648700</td>\n",
       "      <td>0.0000</td>\n",
       "      <td>41.921512</td>\n",
       "      <td>1193.30</td>\n",
       "      <td>...</td>\n",
       "      <td>0</td>\n",
       "      <td>0</td>\n",
       "      <td>0</td>\n",
       "      <td>0</td>\n",
       "      <td>0</td>\n",
       "      <td>0</td>\n",
       "      <td>0</td>\n",
       "      <td>0</td>\n",
       "      <td>1</td>\n",
       "      <td>0</td>\n",
       "    </tr>\n",
       "    <tr>\n",
       "      <th>3</th>\n",
       "      <td>CHA.Nq.ET-2023h</td>\n",
       "      <td>507.507179</td>\n",
       "      <td>15732.722553</td>\n",
       "      <td>24632.500</td>\n",
       "      <td>53804.70000</td>\n",
       "      <td>31</td>\n",
       "      <td>7.450800</td>\n",
       "      <td>0.0000</td>\n",
       "      <td>52.008488</td>\n",
       "      <td>1983.43</td>\n",
       "      <td>...</td>\n",
       "      <td>0</td>\n",
       "      <td>0</td>\n",
       "      <td>0</td>\n",
       "      <td>0</td>\n",
       "      <td>0</td>\n",
       "      <td>0</td>\n",
       "      <td>0</td>\n",
       "      <td>0</td>\n",
       "      <td>1</td>\n",
       "      <td>0</td>\n",
       "    </tr>\n",
       "    <tr>\n",
       "      <th>4</th>\n",
       "      <td>CHA.Nq.ET-2023h</td>\n",
       "      <td>546.371526</td>\n",
       "      <td>16937.517298</td>\n",
       "      <td>26518.830</td>\n",
       "      <td>53804.70000</td>\n",
       "      <td>31</td>\n",
       "      <td>7.450800</td>\n",
       "      <td>0.0000</td>\n",
       "      <td>52.008488</td>\n",
       "      <td>1983.43</td>\n",
       "      <td>...</td>\n",
       "      <td>0</td>\n",
       "      <td>0</td>\n",
       "      <td>0</td>\n",
       "      <td>0</td>\n",
       "      <td>0</td>\n",
       "      <td>0</td>\n",
       "      <td>0</td>\n",
       "      <td>0</td>\n",
       "      <td>1</td>\n",
       "      <td>0</td>\n",
       "    </tr>\n",
       "    <tr>\n",
       "      <th>...</th>\n",
       "      <td>...</td>\n",
       "      <td>...</td>\n",
       "      <td>...</td>\n",
       "      <td>...</td>\n",
       "      <td>...</td>\n",
       "      <td>...</td>\n",
       "      <td>...</td>\n",
       "      <td>...</td>\n",
       "      <td>...</td>\n",
       "      <td>...</td>\n",
       "      <td>...</td>\n",
       "      <td>...</td>\n",
       "      <td>...</td>\n",
       "      <td>...</td>\n",
       "      <td>...</td>\n",
       "      <td>...</td>\n",
       "      <td>...</td>\n",
       "      <td>...</td>\n",
       "      <td>...</td>\n",
       "      <td>...</td>\n",
       "      <td>...</td>\n",
       "    </tr>\n",
       "    <tr>\n",
       "      <th>881</th>\n",
       "      <td>YPF.Nq.SOil-406(h)</td>\n",
       "      <td>627.901672</td>\n",
       "      <td>19464.951828</td>\n",
       "      <td>38123.830</td>\n",
       "      <td>42289.29442</td>\n",
       "      <td>31</td>\n",
       "      <td>7.325744</td>\n",
       "      <td>7228.4436</td>\n",
       "      <td>41.493185</td>\n",
       "      <td>1954.00</td>\n",
       "      <td>...</td>\n",
       "      <td>0</td>\n",
       "      <td>0</td>\n",
       "      <td>0</td>\n",
       "      <td>0</td>\n",
       "      <td>0</td>\n",
       "      <td>0</td>\n",
       "      <td>0</td>\n",
       "      <td>0</td>\n",
       "      <td>0</td>\n",
       "      <td>1</td>\n",
       "    </tr>\n",
       "    <tr>\n",
       "      <th>882</th>\n",
       "      <td>YPF.Nq.SOil-71(h)</td>\n",
       "      <td>69.579137</td>\n",
       "      <td>347.895687</td>\n",
       "      <td>6276.190</td>\n",
       "      <td>3869.90000</td>\n",
       "      <td>5</td>\n",
       "      <td>0.995940</td>\n",
       "      <td>100.4850</td>\n",
       "      <td>20.512667</td>\n",
       "      <td>361.70</td>\n",
       "      <td>...</td>\n",
       "      <td>0</td>\n",
       "      <td>0</td>\n",
       "      <td>0</td>\n",
       "      <td>0</td>\n",
       "      <td>0</td>\n",
       "      <td>0</td>\n",
       "      <td>0</td>\n",
       "      <td>0</td>\n",
       "      <td>0</td>\n",
       "      <td>1</td>\n",
       "    </tr>\n",
       "    <tr>\n",
       "      <th>883</th>\n",
       "      <td>YPF.Nq.SOil-72(h)</td>\n",
       "      <td>237.790529</td>\n",
       "      <td>3566.857934</td>\n",
       "      <td>17204.900</td>\n",
       "      <td>15950.40000</td>\n",
       "      <td>15</td>\n",
       "      <td>3.292650</td>\n",
       "      <td>688.6800</td>\n",
       "      <td>25.536828</td>\n",
       "      <td>1197.50</td>\n",
       "      <td>...</td>\n",
       "      <td>0</td>\n",
       "      <td>0</td>\n",
       "      <td>0</td>\n",
       "      <td>0</td>\n",
       "      <td>0</td>\n",
       "      <td>0</td>\n",
       "      <td>0</td>\n",
       "      <td>0</td>\n",
       "      <td>0</td>\n",
       "      <td>1</td>\n",
       "    </tr>\n",
       "    <tr>\n",
       "      <th>884</th>\n",
       "      <td>YPF.Nq.SOil-72(h)</td>\n",
       "      <td>258.881794</td>\n",
       "      <td>3883.226907</td>\n",
       "      <td>18730.920</td>\n",
       "      <td>15950.40000</td>\n",
       "      <td>15</td>\n",
       "      <td>3.292650</td>\n",
       "      <td>688.6800</td>\n",
       "      <td>25.536828</td>\n",
       "      <td>1197.50</td>\n",
       "      <td>...</td>\n",
       "      <td>0</td>\n",
       "      <td>0</td>\n",
       "      <td>0</td>\n",
       "      <td>0</td>\n",
       "      <td>0</td>\n",
       "      <td>0</td>\n",
       "      <td>0</td>\n",
       "      <td>0</td>\n",
       "      <td>0</td>\n",
       "      <td>1</td>\n",
       "    </tr>\n",
       "    <tr>\n",
       "      <th>885</th>\n",
       "      <td>YPF.Nq.SOil.x-2h</td>\n",
       "      <td>262.512219</td>\n",
       "      <td>2625.122191</td>\n",
       "      <td>11747.230</td>\n",
       "      <td>17456.30000</td>\n",
       "      <td>10</td>\n",
       "      <td>2.228715</td>\n",
       "      <td>321.3450</td>\n",
       "      <td>35.820920</td>\n",
       "      <td>934.30</td>\n",
       "      <td>...</td>\n",
       "      <td>0</td>\n",
       "      <td>0</td>\n",
       "      <td>0</td>\n",
       "      <td>0</td>\n",
       "      <td>0</td>\n",
       "      <td>0</td>\n",
       "      <td>0</td>\n",
       "      <td>0</td>\n",
       "      <td>0</td>\n",
       "      <td>1</td>\n",
       "    </tr>\n",
       "  </tbody>\n",
       "</table>\n",
       "<p>886 rows × 73 columns</p>\n",
       "</div>"
      ],
      "text/plain": [
       "                  sigla  Producción_Normalizada_por_Concentracion  \\\n",
       "0     AME.Nq.LTE.x-2(h)                                262.585340   \n",
       "1       CHA.Nq.ET-2022h                                556.752034   \n",
       "2       CHA.Nq.ET-2022h                                607.890305   \n",
       "3       CHA.Nq.ET-2023h                                507.507179   \n",
       "4       CHA.Nq.ET-2023h                                546.371526   \n",
       "..                  ...                                       ...   \n",
       "881  YPF.Nq.SOil-406(h)                                627.901672   \n",
       "882   YPF.Nq.SOil-71(h)                                 69.579137   \n",
       "883   YPF.Nq.SOil-72(h)                                237.790529   \n",
       "884   YPF.Nq.SOil-72(h)                                258.881794   \n",
       "885    YPF.Nq.SOil.x-2h                                262.512219   \n",
       "\n",
       "     Producción_Normalizada_por_Etapa  prod_pet_acum  agua_inyectada_m3  \\\n",
       "0                         5251.706798      18679.101        20581.90000   \n",
       "1                         8351.280513      27287.760        26092.50000   \n",
       "2                         9118.354578      29794.170        26092.50000   \n",
       "3                        15732.722553      24632.500        53804.70000   \n",
       "4                        16937.517298      26518.830        53804.70000   \n",
       "..                                ...            ...                ...   \n",
       "881                      19464.951828      38123.830        42289.29442   \n",
       "882                        347.895687       6276.190         3869.90000   \n",
       "883                       3566.857934      17204.900        15950.40000   \n",
       "884                       3883.226907      18730.920        15950.40000   \n",
       "885                       2625.122191      11747.230        17456.30000   \n",
       "\n",
       "     cantidad_fracturas  Arena_total  arena_bombeada_nacional_tn  \\\n",
       "0                    20     4.177220                    494.2800   \n",
       "1                    15     3.648700                      0.0000   \n",
       "2                    15     3.648700                      0.0000   \n",
       "3                    31     7.450800                      0.0000   \n",
       "4                    31     7.450800                      0.0000   \n",
       "..                  ...          ...                         ...   \n",
       "881                  31     7.325744                   7228.4436   \n",
       "882                   5     0.995940                    100.4850   \n",
       "883                  15     3.292650                    688.6800   \n",
       "884                  15     3.292650                    688.6800   \n",
       "885                  10     2.228715                    321.3450   \n",
       "\n",
       "     intensidad_fluido      LRH  ...  yacimiento_NARAMBUENA  \\\n",
       "0            26.306623  1500.00  ...                      0   \n",
       "1            41.921512  1193.30  ...                      0   \n",
       "2            41.921512  1193.30  ...                      0   \n",
       "3            52.008488  1983.43  ...                      0   \n",
       "4            52.008488  1983.43  ...                      0   \n",
       "..                 ...      ...  ...                    ...   \n",
       "881          41.493185  1954.00  ...                      0   \n",
       "882          20.512667   361.70  ...                      0   \n",
       "883          25.536828  1197.50  ...                      0   \n",
       "884          25.536828  1197.50  ...                      0   \n",
       "885          35.820920   934.30  ...                      0   \n",
       "\n",
       "     yacimiento_RINCON DE ARANDA  yacimiento_SAN ROQUE VACA MUERTA  \\\n",
       "0                              0                                 0   \n",
       "1                              0                                 0   \n",
       "2                              0                                 0   \n",
       "3                              0                                 0   \n",
       "4                              0                                 0   \n",
       "..                           ...                               ...   \n",
       "881                            0                                 0   \n",
       "882                            0                                 0   \n",
       "883                            0                                 0   \n",
       "884                            0                                 0   \n",
       "885                            0                                 0   \n",
       "\n",
       "     yacimiento_SIERRA BARROSA  yacimiento_SIERRAS BLANCAS  \\\n",
       "0                            0                           0   \n",
       "1                            0                           0   \n",
       "2                            0                           0   \n",
       "3                            0                           0   \n",
       "4                            0                           0   \n",
       "..                         ...                         ...   \n",
       "881                          0                           0   \n",
       "882                          0                           0   \n",
       "883                          0                           0   \n",
       "884                          0                           0   \n",
       "885                          0                           0   \n",
       "\n",
       "     tipoextraccion_Bombeo Mecánico  tipoextraccion_Gas Lift  \\\n",
       "0                                 0                        0   \n",
       "1                                 0                        0   \n",
       "2                                 0                        0   \n",
       "3                                 0                        0   \n",
       "4                                 0                        0   \n",
       "..                              ...                      ...   \n",
       "881                               0                        0   \n",
       "882                               0                        0   \n",
       "883                               0                        0   \n",
       "884                               0                        0   \n",
       "885                               0                        0   \n",
       "\n",
       "     tipoextraccion_Plunger Lift  tipoextraccion_Sin Sistema de Extracción  \\\n",
       "0                              0                                         0   \n",
       "1                              0                                         1   \n",
       "2                              0                                         1   \n",
       "3                              0                                         1   \n",
       "4                              0                                         1   \n",
       "..                           ...                                       ...   \n",
       "881                            0                                         0   \n",
       "882                            0                                         0   \n",
       "883                            0                                         0   \n",
       "884                            0                                         0   \n",
       "885                            0                                         0   \n",
       "\n",
       "     tipoextraccion_Surgencia Natural  \n",
       "0                                   1  \n",
       "1                                   0  \n",
       "2                                   0  \n",
       "3                                   0  \n",
       "4                                   0  \n",
       "..                                ...  \n",
       "881                                 1  \n",
       "882                                 1  \n",
       "883                                 1  \n",
       "884                                 1  \n",
       "885                                 1  \n",
       "\n",
       "[886 rows x 73 columns]"
      ]
     },
     "execution_count": 6,
     "metadata": {},
     "output_type": "execute_result"
    }
   ],
   "source": [
    "df_ML= createdummies(df_ML,\"empresa\")\n",
    "df_ML= createdummies(df_ML,\"yacimiento\")\n",
    "df_ML= createdummies(df_ML,\"tipoextraccion\")\n",
    "df_ML"
   ]
  },
  {
   "cell_type": "markdown",
   "id": "09adf68a",
   "metadata": {},
   "source": [
    "**REDUCCIÓN DE LA DIMENCIONALIDAD**"
   ]
  },
  {
   "cell_type": "markdown",
   "id": "314c37a2",
   "metadata": {},
   "source": [
    "Analicemos ahora las correlaciones entre las variables de este nuevo dataset con mayor cantidad de caracteristicas, tomando \"prod_pet_acum\" como nuestra variable destacada o vatiable objetivo."
   ]
  },
  {
   "cell_type": "code",
   "execution_count": 7,
   "id": "f592c5ec",
   "metadata": {},
   "outputs": [
    {
     "name": "stdout",
     "output_type": "stream",
     "text": [
      "Producción_Normalizada_por_Concentracion    0.959477\n",
      "Producción_Normalizada_por_Etapa            0.894885\n",
      "prod_pet_acum                               1.000000\n",
      "agua_inyectada_m3                           0.728958\n",
      "cantidad_fracturas                          0.676990\n",
      "Arena_total                                 0.732483\n",
      "arena_bombeada_nacional_tn                  0.679988\n",
      "intensidad_fluido                           0.515555\n",
      "LRH                                         0.662593\n",
      "prod_pet                                    0.698852\n",
      "prod_gas_acum                               0.628458\n",
      "anio_ff                                     0.587930\n",
      "intensidad_arena                            0.483338\n",
      "anio                                        0.572912\n",
      "tipoextraccion_Gas Lift                     0.316919\n",
      "Name: prod_pet_acum, dtype: float64\n"
     ]
    }
   ],
   "source": [
    "cor=df_ML.corr()\n",
    "cortarget=abs(cor[\"prod_pet_acum\"])\n",
    "Var_Destacadas= cortarget[cortarget>=0.30]\n",
    "print(Var_Destacadas)"
   ]
  },
  {
   "cell_type": "code",
   "execution_count": 8,
   "id": "fbe59147",
   "metadata": {},
   "outputs": [
    {
     "data": {
      "text/html": [
       "<div>\n",
       "<style scoped>\n",
       "    .dataframe tbody tr th:only-of-type {\n",
       "        vertical-align: middle;\n",
       "    }\n",
       "\n",
       "    .dataframe tbody tr th {\n",
       "        vertical-align: top;\n",
       "    }\n",
       "\n",
       "    .dataframe thead th {\n",
       "        text-align: right;\n",
       "    }\n",
       "</style>\n",
       "<table border=\"1\" class=\"dataframe\">\n",
       "  <thead>\n",
       "    <tr style=\"text-align: right;\">\n",
       "      <th></th>\n",
       "      <th>Producción_Normalizada_por_Concentracion</th>\n",
       "      <th>Producción_Normalizada_por_Etapa</th>\n",
       "      <th>prod_pet_acum</th>\n",
       "      <th>agua_inyectada_m3</th>\n",
       "      <th>cantidad_fracturas</th>\n",
       "      <th>Arena_total</th>\n",
       "      <th>arena_bombeada_nacional_tn</th>\n",
       "      <th>intensidad_fluido</th>\n",
       "      <th>LRH</th>\n",
       "      <th>prod_pet</th>\n",
       "      <th>prod_gas_acum</th>\n",
       "      <th>anio_ff</th>\n",
       "      <th>intensidad_arena</th>\n",
       "      <th>anio</th>\n",
       "      <th>tipoextraccion_Gas Lift</th>\n",
       "    </tr>\n",
       "  </thead>\n",
       "  <tbody>\n",
       "    <tr>\n",
       "      <th>0</th>\n",
       "      <td>262.585340</td>\n",
       "      <td>5251.706798</td>\n",
       "      <td>18679.101</td>\n",
       "      <td>20581.90000</td>\n",
       "      <td>20</td>\n",
       "      <td>4.177220</td>\n",
       "      <td>494.2800</td>\n",
       "      <td>26.306623</td>\n",
       "      <td>1500.00</td>\n",
       "      <td>940.685</td>\n",
       "      <td>3086.74860</td>\n",
       "      <td>2016</td>\n",
       "      <td>1871.330898</td>\n",
       "      <td>2018</td>\n",
       "      <td>0</td>\n",
       "    </tr>\n",
       "    <tr>\n",
       "      <th>1</th>\n",
       "      <td>556.752034</td>\n",
       "      <td>8351.280513</td>\n",
       "      <td>27287.760</td>\n",
       "      <td>26092.50000</td>\n",
       "      <td>15</td>\n",
       "      <td>3.648700</td>\n",
       "      <td>0.0000</td>\n",
       "      <td>41.921512</td>\n",
       "      <td>1193.30</td>\n",
       "      <td>2799.170</td>\n",
       "      <td>11326.36114</td>\n",
       "      <td>2020</td>\n",
       "      <td>2054.674424</td>\n",
       "      <td>2021</td>\n",
       "      <td>0</td>\n",
       "    </tr>\n",
       "    <tr>\n",
       "      <th>2</th>\n",
       "      <td>607.890305</td>\n",
       "      <td>9118.354578</td>\n",
       "      <td>29794.170</td>\n",
       "      <td>26092.50000</td>\n",
       "      <td>15</td>\n",
       "      <td>3.648700</td>\n",
       "      <td>0.0000</td>\n",
       "      <td>41.921512</td>\n",
       "      <td>1193.30</td>\n",
       "      <td>2506.410</td>\n",
       "      <td>12538.65408</td>\n",
       "      <td>2020</td>\n",
       "      <td>2054.674424</td>\n",
       "      <td>2021</td>\n",
       "      <td>0</td>\n",
       "    </tr>\n",
       "    <tr>\n",
       "      <th>3</th>\n",
       "      <td>507.507179</td>\n",
       "      <td>15732.722553</td>\n",
       "      <td>24632.500</td>\n",
       "      <td>53804.70000</td>\n",
       "      <td>31</td>\n",
       "      <td>7.450800</td>\n",
       "      <td>0.0000</td>\n",
       "      <td>52.008488</td>\n",
       "      <td>1983.43</td>\n",
       "      <td>2125.820</td>\n",
       "      <td>9284.19990</td>\n",
       "      <td>2020</td>\n",
       "      <td>2524.297441</td>\n",
       "      <td>2021</td>\n",
       "      <td>0</td>\n",
       "    </tr>\n",
       "    <tr>\n",
       "      <th>4</th>\n",
       "      <td>546.371526</td>\n",
       "      <td>16937.517298</td>\n",
       "      <td>26518.830</td>\n",
       "      <td>53804.70000</td>\n",
       "      <td>31</td>\n",
       "      <td>7.450800</td>\n",
       "      <td>0.0000</td>\n",
       "      <td>52.008488</td>\n",
       "      <td>1983.43</td>\n",
       "      <td>1886.330</td>\n",
       "      <td>10083.14587</td>\n",
       "      <td>2020</td>\n",
       "      <td>2524.297441</td>\n",
       "      <td>2021</td>\n",
       "      <td>0</td>\n",
       "    </tr>\n",
       "    <tr>\n",
       "      <th>...</th>\n",
       "      <td>...</td>\n",
       "      <td>...</td>\n",
       "      <td>...</td>\n",
       "      <td>...</td>\n",
       "      <td>...</td>\n",
       "      <td>...</td>\n",
       "      <td>...</td>\n",
       "      <td>...</td>\n",
       "      <td>...</td>\n",
       "      <td>...</td>\n",
       "      <td>...</td>\n",
       "      <td>...</td>\n",
       "      <td>...</td>\n",
       "      <td>...</td>\n",
       "      <td>...</td>\n",
       "    </tr>\n",
       "    <tr>\n",
       "      <th>881</th>\n",
       "      <td>627.901672</td>\n",
       "      <td>19464.951828</td>\n",
       "      <td>38123.830</td>\n",
       "      <td>42289.29442</td>\n",
       "      <td>31</td>\n",
       "      <td>7.325744</td>\n",
       "      <td>7228.4436</td>\n",
       "      <td>41.493185</td>\n",
       "      <td>1954.00</td>\n",
       "      <td>2491.010</td>\n",
       "      <td>5106.60000</td>\n",
       "      <td>2020</td>\n",
       "      <td>2519.310251</td>\n",
       "      <td>2022</td>\n",
       "      <td>0</td>\n",
       "    </tr>\n",
       "    <tr>\n",
       "      <th>882</th>\n",
       "      <td>69.579137</td>\n",
       "      <td>347.895687</td>\n",
       "      <td>6276.190</td>\n",
       "      <td>3869.90000</td>\n",
       "      <td>5</td>\n",
       "      <td>0.995940</td>\n",
       "      <td>100.4850</td>\n",
       "      <td>20.512667</td>\n",
       "      <td>361.70</td>\n",
       "      <td>757.380</td>\n",
       "      <td>980.87000</td>\n",
       "      <td>2015</td>\n",
       "      <td>1850.287289</td>\n",
       "      <td>2016</td>\n",
       "      <td>0</td>\n",
       "    </tr>\n",
       "    <tr>\n",
       "      <th>883</th>\n",
       "      <td>237.790529</td>\n",
       "      <td>3566.857934</td>\n",
       "      <td>17204.900</td>\n",
       "      <td>15950.40000</td>\n",
       "      <td>15</td>\n",
       "      <td>3.292650</td>\n",
       "      <td>688.6800</td>\n",
       "      <td>25.536828</td>\n",
       "      <td>1197.50</td>\n",
       "      <td>1304.340</td>\n",
       "      <td>2770.49000</td>\n",
       "      <td>2014</td>\n",
       "      <td>1847.670588</td>\n",
       "      <td>2015</td>\n",
       "      <td>0</td>\n",
       "    </tr>\n",
       "    <tr>\n",
       "      <th>884</th>\n",
       "      <td>258.881794</td>\n",
       "      <td>3883.226907</td>\n",
       "      <td>18730.920</td>\n",
       "      <td>15950.40000</td>\n",
       "      <td>15</td>\n",
       "      <td>3.292650</td>\n",
       "      <td>688.6800</td>\n",
       "      <td>25.536828</td>\n",
       "      <td>1197.50</td>\n",
       "      <td>1526.020</td>\n",
       "      <td>2872.93000</td>\n",
       "      <td>2014</td>\n",
       "      <td>1847.670588</td>\n",
       "      <td>2015</td>\n",
       "      <td>0</td>\n",
       "    </tr>\n",
       "    <tr>\n",
       "      <th>885</th>\n",
       "      <td>262.512219</td>\n",
       "      <td>2625.122191</td>\n",
       "      <td>11747.230</td>\n",
       "      <td>17456.30000</td>\n",
       "      <td>10</td>\n",
       "      <td>2.228715</td>\n",
       "      <td>321.3450</td>\n",
       "      <td>35.820920</td>\n",
       "      <td>934.30</td>\n",
       "      <td>621.050</td>\n",
       "      <td>1887.55000</td>\n",
       "      <td>2011</td>\n",
       "      <td>1602.960003</td>\n",
       "      <td>2012</td>\n",
       "      <td>0</td>\n",
       "    </tr>\n",
       "  </tbody>\n",
       "</table>\n",
       "<p>886 rows × 15 columns</p>\n",
       "</div>"
      ],
      "text/plain": [
       "     Producción_Normalizada_por_Concentracion  \\\n",
       "0                                  262.585340   \n",
       "1                                  556.752034   \n",
       "2                                  607.890305   \n",
       "3                                  507.507179   \n",
       "4                                  546.371526   \n",
       "..                                        ...   \n",
       "881                                627.901672   \n",
       "882                                 69.579137   \n",
       "883                                237.790529   \n",
       "884                                258.881794   \n",
       "885                                262.512219   \n",
       "\n",
       "     Producción_Normalizada_por_Etapa  prod_pet_acum  agua_inyectada_m3  \\\n",
       "0                         5251.706798      18679.101        20581.90000   \n",
       "1                         8351.280513      27287.760        26092.50000   \n",
       "2                         9118.354578      29794.170        26092.50000   \n",
       "3                        15732.722553      24632.500        53804.70000   \n",
       "4                        16937.517298      26518.830        53804.70000   \n",
       "..                                ...            ...                ...   \n",
       "881                      19464.951828      38123.830        42289.29442   \n",
       "882                        347.895687       6276.190         3869.90000   \n",
       "883                       3566.857934      17204.900        15950.40000   \n",
       "884                       3883.226907      18730.920        15950.40000   \n",
       "885                       2625.122191      11747.230        17456.30000   \n",
       "\n",
       "     cantidad_fracturas  Arena_total  arena_bombeada_nacional_tn  \\\n",
       "0                    20     4.177220                    494.2800   \n",
       "1                    15     3.648700                      0.0000   \n",
       "2                    15     3.648700                      0.0000   \n",
       "3                    31     7.450800                      0.0000   \n",
       "4                    31     7.450800                      0.0000   \n",
       "..                  ...          ...                         ...   \n",
       "881                  31     7.325744                   7228.4436   \n",
       "882                   5     0.995940                    100.4850   \n",
       "883                  15     3.292650                    688.6800   \n",
       "884                  15     3.292650                    688.6800   \n",
       "885                  10     2.228715                    321.3450   \n",
       "\n",
       "     intensidad_fluido      LRH  prod_pet  prod_gas_acum  anio_ff  \\\n",
       "0            26.306623  1500.00   940.685     3086.74860     2016   \n",
       "1            41.921512  1193.30  2799.170    11326.36114     2020   \n",
       "2            41.921512  1193.30  2506.410    12538.65408     2020   \n",
       "3            52.008488  1983.43  2125.820     9284.19990     2020   \n",
       "4            52.008488  1983.43  1886.330    10083.14587     2020   \n",
       "..                 ...      ...       ...            ...      ...   \n",
       "881          41.493185  1954.00  2491.010     5106.60000     2020   \n",
       "882          20.512667   361.70   757.380      980.87000     2015   \n",
       "883          25.536828  1197.50  1304.340     2770.49000     2014   \n",
       "884          25.536828  1197.50  1526.020     2872.93000     2014   \n",
       "885          35.820920   934.30   621.050     1887.55000     2011   \n",
       "\n",
       "     intensidad_arena  anio  tipoextraccion_Gas Lift  \n",
       "0         1871.330898  2018                        0  \n",
       "1         2054.674424  2021                        0  \n",
       "2         2054.674424  2021                        0  \n",
       "3         2524.297441  2021                        0  \n",
       "4         2524.297441  2021                        0  \n",
       "..                ...   ...                      ...  \n",
       "881       2519.310251  2022                        0  \n",
       "882       1850.287289  2016                        0  \n",
       "883       1847.670588  2015                        0  \n",
       "884       1847.670588  2015                        0  \n",
       "885       1602.960003  2012                        0  \n",
       "\n",
       "[886 rows x 15 columns]"
      ]
     },
     "execution_count": 8,
     "metadata": {},
     "output_type": "execute_result"
    }
   ],
   "source": [
    "Mejores_Var=df_ML[Var_Destacadas.index]\n",
    "Mejores_Var"
   ]
  },
  {
   "cell_type": "markdown",
   "id": "4e6e818b",
   "metadata": {},
   "source": [
    "Este sera el dataframe que usaremos para entrenar un modelo de Machine Learning y predecir la producción de petróleo. A continución procederamos a escalar los datos."
   ]
  },
  {
   "cell_type": "markdown",
   "id": "9d2925a4",
   "metadata": {},
   "source": [
    "**APLICACIÓN DE DBSCAN**"
   ]
  },
  {
   "cell_type": "markdown",
   "id": "964584d1",
   "metadata": {},
   "source": [
    "En principio calcularemos los parametros a ser unados en DBSCAN, comenzando con la distancia kn y la graficaremos para observar su valor."
   ]
  },
  {
   "cell_type": "code",
   "execution_count": 9,
   "id": "7ef4b2f4",
   "metadata": {},
   "outputs": [],
   "source": [
    "import math\n",
    "\n",
    "def calculate_kn_distance(Mejores_Var, k):\n",
    "    kn_distance = []\n",
    "    for i in range(len(Mejores_Var)):\n",
    "        eucl_dist = []\n",
    "        for j in range(len(Mejores_Var)):\n",
    "            eucl_dist.append(math.sqrt(((Mejores_Var.iloc[i, 8] - Mejores_Var.iloc[j, 8]) ** 2) + ((Mejores_Var.iloc[i, 2] - Mejores_Var.iloc[j, 2]) ** 2)))\n",
    "        eucl_dist.sort()\n",
    "        kn_distance.append(eucl_dist[k])\n",
    "    return kn_distance"
   ]
  },
  {
   "cell_type": "code",
   "execution_count": 10,
   "id": "7a60a75d",
   "metadata": {},
   "outputs": [
    {
     "data": {
      "image/png": "[encoded data removed]",
      "text/plain": [
       "<Figure size 432x288 with 1 Axes>"
      ]
     },
     "metadata": {
      "needs_background": "light"
     },
     "output_type": "display_data"
    }
   ],
   "source": [
    "k = 4\n",
    "eps_dist = calculate_kn_distance(Mejores_Var, k)\n",
    "plt.plot(range(len(eps_dist)), sorted(eps_dist))\n",
    "plt.xlabel('Points sorted by distance')\n",
    "plt.ylabel(f'{k}-NN distance')\n",
    "plt.axhline(y=900, color='r', linestyle='--')\n",
    "plt.show()"
   ]
  },
  {
   "cell_type": "markdown",
   "id": "6bd9baf7",
   "metadata": {},
   "source": [
    "Observamos que el valor aproximado de la distancia kn es 900. Para el otro parametros usaremos 9 ya que tenemos 8 dimenciones o variables en nuestro dataframe \"Mejores_Var\"."
   ]
  },
  {
   "cell_type": "code",
   "execution_count": 11,
   "id": "47148c5a",
   "metadata": {},
   "outputs": [
    {
     "data": {
      "text/plain": [
       "DBSCAN(eps=900, min_samples=9)"
      ]
     },
     "execution_count": 11,
     "metadata": {},
     "output_type": "execute_result"
    }
   ],
   "source": [
    "columnas_seleccionadas = Mejores_Var.iloc[:, [8, 2]]\n",
    "dbscan = DBSCAN(eps=900, min_samples=9)\n",
    "dbscan.fit(columnas_seleccionadas)"
   ]
  },
  {
   "cell_type": "code",
   "execution_count": 12,
   "id": "0f5106fe",
   "metadata": {},
   "outputs": [],
   "source": [
    "labels = dbscan.labels_\n",
    "\n",
    "num_grupos = len(set(labels)) - (1 if -1 in labels else 0)\n",
    "\n",
    "core_samples_indices = dbscan.core_sample_indices_"
   ]
  },
  {
   "cell_type": "code",
   "execution_count": 13,
   "id": "5a6f12ec",
   "metadata": {},
   "outputs": [
    {
     "data": {
      "text/plain": [
       "(775,)"
      ]
     },
     "execution_count": 13,
     "metadata": {},
     "output_type": "execute_result"
    }
   ],
   "source": [
    "core_samples_indices.shape"
   ]
  },
  {
   "cell_type": "code",
   "execution_count": 14,
   "id": "b9c04ae3",
   "metadata": {},
   "outputs": [
    {
     "data": {
      "text/plain": [
       "(886,)"
      ]
     },
     "execution_count": 14,
     "metadata": {},
     "output_type": "execute_result"
    }
   ],
   "source": [
    "labels.shape"
   ]
  },
  {
   "cell_type": "code",
   "execution_count": 15,
   "id": "cf427eca",
   "metadata": {},
   "outputs": [
    {
     "data": {
      "image/png": "[encoded data removed]",
      "text/plain": [
       "<Figure size 576x432 with 1 Axes>"
      ]
     },
     "metadata": {
      "needs_background": "light"
     },
     "output_type": "display_data"
    }
   ],
   "source": [
    "plt.figure(figsize=(8, 6))\n",
    "sns.scatterplot(x=columnas_seleccionadas.iloc[:, 0], y=columnas_seleccionadas.iloc[:, 1], hue=labels, palette='Set1')\n",
    "plt.title('DBSCAN')\n",
    "plt.xlabel('X 1')\n",
    "plt.ylabel('X 2')\n",
    "plt.legend()\n",
    "plt.show()"
   ]
  },
  {
   "cell_type": "markdown",
   "id": "3e097b30",
   "metadata": {},
   "source": [
    "**CLUSTERING**"
   ]
  },
  {
   "cell_type": "markdown",
   "id": "248d81aa",
   "metadata": {},
   "source": [
    "Procederemos a buscar el número optimo de clusters a usar. Aplicaremos el método deL codo."
   ]
  },
  {
   "cell_type": "code",
   "execution_count": 16,
   "id": "62c644e9",
   "metadata": {},
   "outputs": [
    {
     "data": {
      "image/png": "[encoded data removed]",
      "text/plain": [
       "<Figure size 432x288 with 1 Axes>"
      ]
     },
     "metadata": {
      "needs_background": "light"
     },
     "output_type": "display_data"
    }
   ],
   "source": [
    "inercia = []\n",
    "for i in range(1, 11):\n",
    "    kmeans = KMeans(n_clusters = i, init = 'k-means++', random_state = 42)\n",
    "    kmeans.fit(Mejores_Var)\n",
    "    inercia.append(kmeans.inertia_)\n",
    "\n",
    "plt.plot(range(1, 11), inercia)\n",
    "plt.title('Metodo del Codo')\n",
    "plt.xlabel('Número de clusters')\n",
    "plt.ylabel('Inercia')\n",
    "plt.show()"
   ]
  },
  {
   "cell_type": "markdown",
   "id": "40db6e5a",
   "metadata": {},
   "source": [
    "De este grafico podemos observar que el número optimo de clusters seria 6, ya que justo en ese punto se observa como la curva desciende. "
   ]
  },
  {
   "cell_type": "code",
   "execution_count": 17,
   "id": "4fb3360f",
   "metadata": {},
   "outputs": [],
   "source": [
    "kmeans = KMeans(n_clusters = 6, init = 'k-means++', random_state = 42)\n",
    "y_kmeans = kmeans.fit_predict(Mejores_Var)"
   ]
  },
  {
   "cell_type": "code",
   "execution_count": 18,
   "id": "b704104f",
   "metadata": {},
   "outputs": [
    {
     "name": "stderr",
     "output_type": "stream",
     "text": [
      "C:\\Users\\gusta\\AppData\\Local\\Temp\\ipykernel_9568\\693472462.py:1: SettingWithCopyWarning: \n",
      "A value is trying to be set on a copy of a slice from a DataFrame.\n",
      "Try using .loc[row_indexer,col_indexer] = value instead\n",
      "\n",
      "See the caveats in the documentation: https://pandas.pydata.org/pandas-docs/stable/user_guide/indexing.html#returning-a-view-versus-a-copy\n",
      "  Mejores_Var['pred'] = y_kmeans\n"
     ]
    }
   ],
   "source": [
    "Mejores_Var['pred'] = y_kmeans"
   ]
  },
  {
   "cell_type": "code",
   "execution_count": 19,
   "id": "bb646076",
   "metadata": {},
   "outputs": [
    {
     "data": {
      "text/html": [
       "<div>\n",
       "<style scoped>\n",
       "    .dataframe tbody tr th:only-of-type {\n",
       "        vertical-align: middle;\n",
       "    }\n",
       "\n",
       "    .dataframe tbody tr th {\n",
       "        vertical-align: top;\n",
       "    }\n",
       "\n",
       "    .dataframe thead th {\n",
       "        text-align: right;\n",
       "    }\n",
       "</style>\n",
       "<table border=\"1\" class=\"dataframe\">\n",
       "  <thead>\n",
       "    <tr style=\"text-align: right;\">\n",
       "      <th></th>\n",
       "      <th>Producción_Normalizada_por_Concentracion</th>\n",
       "      <th>Producción_Normalizada_por_Etapa</th>\n",
       "      <th>prod_pet_acum</th>\n",
       "      <th>agua_inyectada_m3</th>\n",
       "      <th>cantidad_fracturas</th>\n",
       "      <th>Arena_total</th>\n",
       "      <th>arena_bombeada_nacional_tn</th>\n",
       "      <th>intensidad_fluido</th>\n",
       "      <th>LRH</th>\n",
       "      <th>prod_pet</th>\n",
       "      <th>prod_gas_acum</th>\n",
       "      <th>anio_ff</th>\n",
       "      <th>intensidad_arena</th>\n",
       "      <th>anio</th>\n",
       "      <th>tipoextraccion_Gas Lift</th>\n",
       "      <th>pred</th>\n",
       "    </tr>\n",
       "  </thead>\n",
       "  <tbody>\n",
       "    <tr>\n",
       "      <th>0</th>\n",
       "      <td>262.585340</td>\n",
       "      <td>5251.706798</td>\n",
       "      <td>18679.101</td>\n",
       "      <td>20581.90000</td>\n",
       "      <td>20</td>\n",
       "      <td>4.177220</td>\n",
       "      <td>494.2800</td>\n",
       "      <td>26.306623</td>\n",
       "      <td>1500.00</td>\n",
       "      <td>940.685</td>\n",
       "      <td>3086.74860</td>\n",
       "      <td>2016</td>\n",
       "      <td>1871.330898</td>\n",
       "      <td>2018</td>\n",
       "      <td>0</td>\n",
       "      <td>3</td>\n",
       "    </tr>\n",
       "    <tr>\n",
       "      <th>1</th>\n",
       "      <td>556.752034</td>\n",
       "      <td>8351.280513</td>\n",
       "      <td>27287.760</td>\n",
       "      <td>26092.50000</td>\n",
       "      <td>15</td>\n",
       "      <td>3.648700</td>\n",
       "      <td>0.0000</td>\n",
       "      <td>41.921512</td>\n",
       "      <td>1193.30</td>\n",
       "      <td>2799.170</td>\n",
       "      <td>11326.36114</td>\n",
       "      <td>2020</td>\n",
       "      <td>2054.674424</td>\n",
       "      <td>2021</td>\n",
       "      <td>0</td>\n",
       "      <td>1</td>\n",
       "    </tr>\n",
       "    <tr>\n",
       "      <th>2</th>\n",
       "      <td>607.890305</td>\n",
       "      <td>9118.354578</td>\n",
       "      <td>29794.170</td>\n",
       "      <td>26092.50000</td>\n",
       "      <td>15</td>\n",
       "      <td>3.648700</td>\n",
       "      <td>0.0000</td>\n",
       "      <td>41.921512</td>\n",
       "      <td>1193.30</td>\n",
       "      <td>2506.410</td>\n",
       "      <td>12538.65408</td>\n",
       "      <td>2020</td>\n",
       "      <td>2054.674424</td>\n",
       "      <td>2021</td>\n",
       "      <td>0</td>\n",
       "      <td>1</td>\n",
       "    </tr>\n",
       "    <tr>\n",
       "      <th>3</th>\n",
       "      <td>507.507179</td>\n",
       "      <td>15732.722553</td>\n",
       "      <td>24632.500</td>\n",
       "      <td>53804.70000</td>\n",
       "      <td>31</td>\n",
       "      <td>7.450800</td>\n",
       "      <td>0.0000</td>\n",
       "      <td>52.008488</td>\n",
       "      <td>1983.43</td>\n",
       "      <td>2125.820</td>\n",
       "      <td>9284.19990</td>\n",
       "      <td>2020</td>\n",
       "      <td>2524.297441</td>\n",
       "      <td>2021</td>\n",
       "      <td>0</td>\n",
       "      <td>2</td>\n",
       "    </tr>\n",
       "    <tr>\n",
       "      <th>4</th>\n",
       "      <td>546.371526</td>\n",
       "      <td>16937.517298</td>\n",
       "      <td>26518.830</td>\n",
       "      <td>53804.70000</td>\n",
       "      <td>31</td>\n",
       "      <td>7.450800</td>\n",
       "      <td>0.0000</td>\n",
       "      <td>52.008488</td>\n",
       "      <td>1983.43</td>\n",
       "      <td>1886.330</td>\n",
       "      <td>10083.14587</td>\n",
       "      <td>2020</td>\n",
       "      <td>2524.297441</td>\n",
       "      <td>2021</td>\n",
       "      <td>0</td>\n",
       "      <td>2</td>\n",
       "    </tr>\n",
       "    <tr>\n",
       "      <th>...</th>\n",
       "      <td>...</td>\n",
       "      <td>...</td>\n",
       "      <td>...</td>\n",
       "      <td>...</td>\n",
       "      <td>...</td>\n",
       "      <td>...</td>\n",
       "      <td>...</td>\n",
       "      <td>...</td>\n",
       "      <td>...</td>\n",
       "      <td>...</td>\n",
       "      <td>...</td>\n",
       "      <td>...</td>\n",
       "      <td>...</td>\n",
       "      <td>...</td>\n",
       "      <td>...</td>\n",
       "      <td>...</td>\n",
       "    </tr>\n",
       "    <tr>\n",
       "      <th>881</th>\n",
       "      <td>627.901672</td>\n",
       "      <td>19464.951828</td>\n",
       "      <td>38123.830</td>\n",
       "      <td>42289.29442</td>\n",
       "      <td>31</td>\n",
       "      <td>7.325744</td>\n",
       "      <td>7228.4436</td>\n",
       "      <td>41.493185</td>\n",
       "      <td>1954.00</td>\n",
       "      <td>2491.010</td>\n",
       "      <td>5106.60000</td>\n",
       "      <td>2020</td>\n",
       "      <td>2519.310251</td>\n",
       "      <td>2022</td>\n",
       "      <td>0</td>\n",
       "      <td>2</td>\n",
       "    </tr>\n",
       "    <tr>\n",
       "      <th>882</th>\n",
       "      <td>69.579137</td>\n",
       "      <td>347.895687</td>\n",
       "      <td>6276.190</td>\n",
       "      <td>3869.90000</td>\n",
       "      <td>5</td>\n",
       "      <td>0.995940</td>\n",
       "      <td>100.4850</td>\n",
       "      <td>20.512667</td>\n",
       "      <td>361.70</td>\n",
       "      <td>757.380</td>\n",
       "      <td>980.87000</td>\n",
       "      <td>2015</td>\n",
       "      <td>1850.287289</td>\n",
       "      <td>2016</td>\n",
       "      <td>0</td>\n",
       "      <td>3</td>\n",
       "    </tr>\n",
       "    <tr>\n",
       "      <th>883</th>\n",
       "      <td>237.790529</td>\n",
       "      <td>3566.857934</td>\n",
       "      <td>17204.900</td>\n",
       "      <td>15950.40000</td>\n",
       "      <td>15</td>\n",
       "      <td>3.292650</td>\n",
       "      <td>688.6800</td>\n",
       "      <td>25.536828</td>\n",
       "      <td>1197.50</td>\n",
       "      <td>1304.340</td>\n",
       "      <td>2770.49000</td>\n",
       "      <td>2014</td>\n",
       "      <td>1847.670588</td>\n",
       "      <td>2015</td>\n",
       "      <td>0</td>\n",
       "      <td>3</td>\n",
       "    </tr>\n",
       "    <tr>\n",
       "      <th>884</th>\n",
       "      <td>258.881794</td>\n",
       "      <td>3883.226907</td>\n",
       "      <td>18730.920</td>\n",
       "      <td>15950.40000</td>\n",
       "      <td>15</td>\n",
       "      <td>3.292650</td>\n",
       "      <td>688.6800</td>\n",
       "      <td>25.536828</td>\n",
       "      <td>1197.50</td>\n",
       "      <td>1526.020</td>\n",
       "      <td>2872.93000</td>\n",
       "      <td>2014</td>\n",
       "      <td>1847.670588</td>\n",
       "      <td>2015</td>\n",
       "      <td>0</td>\n",
       "      <td>3</td>\n",
       "    </tr>\n",
       "    <tr>\n",
       "      <th>885</th>\n",
       "      <td>262.512219</td>\n",
       "      <td>2625.122191</td>\n",
       "      <td>11747.230</td>\n",
       "      <td>17456.30000</td>\n",
       "      <td>10</td>\n",
       "      <td>2.228715</td>\n",
       "      <td>321.3450</td>\n",
       "      <td>35.820920</td>\n",
       "      <td>934.30</td>\n",
       "      <td>621.050</td>\n",
       "      <td>1887.55000</td>\n",
       "      <td>2011</td>\n",
       "      <td>1602.960003</td>\n",
       "      <td>2012</td>\n",
       "      <td>0</td>\n",
       "      <td>3</td>\n",
       "    </tr>\n",
       "  </tbody>\n",
       "</table>\n",
       "<p>886 rows × 16 columns</p>\n",
       "</div>"
      ],
      "text/plain": [
       "     Producción_Normalizada_por_Concentracion  \\\n",
       "0                                  262.585340   \n",
       "1                                  556.752034   \n",
       "2                                  607.890305   \n",
       "3                                  507.507179   \n",
       "4                                  546.371526   \n",
       "..                                        ...   \n",
       "881                                627.901672   \n",
       "882                                 69.579137   \n",
       "883                                237.790529   \n",
       "884                                258.881794   \n",
       "885                                262.512219   \n",
       "\n",
       "     Producción_Normalizada_por_Etapa  prod_pet_acum  agua_inyectada_m3  \\\n",
       "0                         5251.706798      18679.101        20581.90000   \n",
       "1                         8351.280513      27287.760        26092.50000   \n",
       "2                         9118.354578      29794.170        26092.50000   \n",
       "3                        15732.722553      24632.500        53804.70000   \n",
       "4                        16937.517298      26518.830        53804.70000   \n",
       "..                                ...            ...                ...   \n",
       "881                      19464.951828      38123.830        42289.29442   \n",
       "882                        347.895687       6276.190         3869.90000   \n",
       "883                       3566.857934      17204.900        15950.40000   \n",
       "884                       3883.226907      18730.920        15950.40000   \n",
       "885                       2625.122191      11747.230        17456.30000   \n",
       "\n",
       "     cantidad_fracturas  Arena_total  arena_bombeada_nacional_tn  \\\n",
       "0                    20     4.177220                    494.2800   \n",
       "1                    15     3.648700                      0.0000   \n",
       "2                    15     3.648700                      0.0000   \n",
       "3                    31     7.450800                      0.0000   \n",
       "4                    31     7.450800                      0.0000   \n",
       "..                  ...          ...                         ...   \n",
       "881                  31     7.325744                   7228.4436   \n",
       "882                   5     0.995940                    100.4850   \n",
       "883                  15     3.292650                    688.6800   \n",
       "884                  15     3.292650                    688.6800   \n",
       "885                  10     2.228715                    321.3450   \n",
       "\n",
       "     intensidad_fluido      LRH  prod_pet  prod_gas_acum  anio_ff  \\\n",
       "0            26.306623  1500.00   940.685     3086.74860     2016   \n",
       "1            41.921512  1193.30  2799.170    11326.36114     2020   \n",
       "2            41.921512  1193.30  2506.410    12538.65408     2020   \n",
       "3            52.008488  1983.43  2125.820     9284.19990     2020   \n",
       "4            52.008488  1983.43  1886.330    10083.14587     2020   \n",
       "..                 ...      ...       ...            ...      ...   \n",
       "881          41.493185  1954.00  2491.010     5106.60000     2020   \n",
       "882          20.512667   361.70   757.380      980.87000     2015   \n",
       "883          25.536828  1197.50  1304.340     2770.49000     2014   \n",
       "884          25.536828  1197.50  1526.020     2872.93000     2014   \n",
       "885          35.820920   934.30   621.050     1887.55000     2011   \n",
       "\n",
       "     intensidad_arena  anio  tipoextraccion_Gas Lift  pred  \n",
       "0         1871.330898  2018                        0     3  \n",
       "1         2054.674424  2021                        0     1  \n",
       "2         2054.674424  2021                        0     1  \n",
       "3         2524.297441  2021                        0     2  \n",
       "4         2524.297441  2021                        0     2  \n",
       "..                ...   ...                      ...   ...  \n",
       "881       2519.310251  2022                        0     2  \n",
       "882       1850.287289  2016                        0     3  \n",
       "883       1847.670588  2015                        0     3  \n",
       "884       1847.670588  2015                        0     3  \n",
       "885       1602.960003  2012                        0     3  \n",
       "\n",
       "[886 rows x 16 columns]"
      ]
     },
     "execution_count": 19,
     "metadata": {},
     "output_type": "execute_result"
    }
   ],
   "source": [
    "Mejores_Var"
   ]
  },
  {
   "cell_type": "code",
   "execution_count": 20,
   "id": "426b5204",
   "metadata": {},
   "outputs": [
    {
     "data": {
      "image/png": "[encoded data removed]",
      "text/plain": [
       "<Figure size 576x432 with 1 Axes>"
      ]
     },
     "metadata": {
      "needs_background": "light"
     },
     "output_type": "display_data"
    }
   ],
   "source": [
    "plt.figure(figsize=(8, 6))\n",
    "sns.scatterplot(x='LRH', y='prod_pet_acum',hue='pred', data=Mejores_Var, palette='Set1')\n",
    "plt.title('Resultados de KNN')\n",
    "plt.xlabel('Eje X')\n",
    "plt.ylabel('Eje Y')\n",
    "plt.legend()\n",
    "plt.show()"
   ]
  },
  {
   "cell_type": "markdown",
   "id": "92198c1c",
   "metadata": {},
   "source": [
    "Se puede observar claramente como hemos agrupado nuestros datos en 6 clusters. Procederemos entonces a probar entrenar nuestro modelo usando KMeans.  Comenzamos reseteando nuestras variables **X** e **Y** y luego dividimos nuestros datos en datos de prueba (20%) y entrenamiento (80%)."
   ]
  },
  {
   "cell_type": "markdown",
   "id": "ea27eee7",
   "metadata": {},
   "source": [
    "**MODELO DE MACHINE LEARNING**"
   ]
  },
  {
   "cell_type": "code",
   "execution_count": 21,
   "id": "99643588",
   "metadata": {},
   "outputs": [
    {
     "name": "stdout",
     "output_type": "stream",
     "text": [
      "Dimensiones del conjunto de entrenamiento: (708, 15)\n",
      "Dimensiones de las etiquetas de entrenamiento: (708,)\n",
      "Dimensiones del conjunto de prueba: (178, 15)\n",
      "Dimensiones de las etiquetas de prueba: (178,)\n"
     ]
    }
   ],
   "source": [
    "X = Mejores_Var.drop('pred', axis=1)\n",
    "y = Mejores_Var['pred']\n",
    "\n",
    "X_train, X_test, y_train, y_test = train_test_split(X, y, test_size=0.2, random_state=42)\n",
    "\n",
    "print(\"Dimensiones del conjunto de entrenamiento:\", X_train.shape)\n",
    "print(\"Dimensiones de las etiquetas de entrenamiento:\", y_train.shape)\n",
    "\n",
    "print(\"Dimensiones del conjunto de prueba:\", X_test.shape)\n",
    "print(\"Dimensiones de las etiquetas de prueba:\", y_test.shape)"
   ]
  },
  {
   "cell_type": "markdown",
   "id": "70400169",
   "metadata": {},
   "source": [
    "A continuación calcularemos la inercia de cada cluster al compararlo con el conjunto de datos de prueba."
   ]
  },
  {
   "cell_type": "code",
   "execution_count": 22,
   "id": "7326a355",
   "metadata": {},
   "outputs": [
    {
     "name": "stdout",
     "output_type": "stream",
     "text": [
      "Inercia del cluster 0 en el conjunto de entrenamiento: Producción_Normalizada_por_Concentracion    2.604461e+06\n",
      "Producción_Normalizada_por_Etapa            1.683203e+09\n",
      "prod_pet_acum                               1.003363e+10\n",
      "agua_inyectada_m3                           1.150967e+10\n",
      "cantidad_fracturas                          1.068806e+04\n",
      "Arena_total                                 4.439256e+02\n",
      "arena_bombeada_nacional_tn                  7.773080e+08\n",
      "intensidad_fluido                           7.850796e+03\n",
      "LRH                                         3.625496e+07\n",
      "prod_pet                                    1.555813e+08\n",
      "prod_gas_acum                               8.967026e+08\n",
      "anio_ff                                     4.788724e+02\n",
      "intensidad_arena                            1.869885e+07\n",
      "anio                                        4.694439e+02\n",
      "tipoextraccion_Gas Lift                     8.493351e-32\n",
      "dtype: float64\n",
      "Inercia del cluster 0 en el conjunto de prueba: Producción_Normalizada_por_Concentracion    9.502938e+05\n",
      "Producción_Normalizada_por_Etapa            5.504517e+08\n",
      "prod_pet_acum                               3.394520e+09\n",
      "agua_inyectada_m3                           2.807433e+09\n",
      "cantidad_fracturas                          2.249292e+03\n",
      "Arena_total                                 1.336144e+02\n",
      "arena_bombeada_nacional_tn                  2.287690e+08\n",
      "intensidad_fluido                           1.562286e+03\n",
      "LRH                                         9.082704e+06\n",
      "prod_pet                                    9.014351e+07\n",
      "prod_gas_acum                               2.615292e+08\n",
      "anio_ff                                     9.762177e+01\n",
      "intensidad_arena                            7.982882e+06\n",
      "anio                                        9.924276e+01\n",
      "tipoextraccion_Gas Lift                     1.993337e-32\n",
      "dtype: float64\n",
      "---\n",
      "Inercia del cluster 1 en el conjunto de entrenamiento: Producción_Normalizada_por_Concentracion    1.410848e+06\n",
      "Producción_Normalizada_por_Etapa            3.439937e+09\n",
      "prod_pet_acum                               3.706353e+09\n",
      "agua_inyectada_m3                           3.904451e+09\n",
      "cantidad_fracturas                          2.871944e+03\n",
      "Arena_total                                 1.764721e+02\n",
      "arena_bombeada_nacional_tn                  4.600277e+08\n",
      "intensidad_fluido                           3.457559e+03\n",
      "LRH                                         7.820834e+06\n",
      "prod_pet                                    1.365253e+08\n",
      "prod_gas_acum                               1.220491e+09\n",
      "anio_ff                                     1.026111e+02\n",
      "intensidad_arena                            1.085995e+07\n",
      "anio                                        1.135000e+02\n",
      "tipoextraccion_Gas Lift                     9.861111e-01\n",
      "dtype: float64\n",
      "Inercia del cluster 1 en el conjunto de prueba: Producción_Normalizada_por_Concentracion    9.503914e+05\n",
      "Producción_Normalizada_por_Etapa            1.485634e+09\n",
      "prod_pet_acum                               1.164687e+09\n",
      "agua_inyectada_m3                           1.276703e+09\n",
      "cantidad_fracturas                          9.350201e+02\n",
      "Arena_total                                 1.016959e+02\n",
      "arena_bombeada_nacional_tn                  1.545498e+08\n",
      "intensidad_fluido                           9.226118e+02\n",
      "LRH                                         1.847087e+06\n",
      "prod_pet                                    4.437765e+07\n",
      "prod_gas_acum                               3.056507e+08\n",
      "anio_ff                                     1.811265e+01\n",
      "intensidad_arena                            4.079462e+06\n",
      "anio                                        1.912500e+01\n",
      "tipoextraccion_Gas Lift                     5.015432e-03\n",
      "dtype: float64\n",
      "---\n",
      "Inercia del cluster 2 en el conjunto de entrenamiento: Producción_Normalizada_por_Concentracion    2.289937e+06\n",
      "Producción_Normalizada_por_Etapa            9.653492e+08\n",
      "prod_pet_acum                               1.014291e+10\n",
      "agua_inyectada_m3                           7.400848e+09\n",
      "cantidad_fracturas                          1.230084e+04\n",
      "Arena_total                                 2.858482e+02\n",
      "arena_bombeada_nacional_tn                  5.551015e+08\n",
      "intensidad_fluido                           1.076661e+04\n",
      "LRH                                         2.741524e+07\n",
      "prod_pet                                    6.512986e+07\n",
      "prod_gas_acum                               4.946069e+08\n",
      "anio_ff                                     6.172304e+02\n",
      "intensidad_arena                            3.131182e+07\n",
      "anio                                        6.701569e+02\n",
      "tipoextraccion_Gas Lift                     1.571559e-31\n",
      "dtype: float64\n",
      "Inercia del cluster 2 en el conjunto de prueba: Producción_Normalizada_por_Concentracion    3.895329e+05\n",
      "Producción_Normalizada_por_Etapa            1.249844e+08\n",
      "prod_pet_acum                               1.403389e+09\n",
      "agua_inyectada_m3                           1.627069e+09\n",
      "cantidad_fracturas                          3.716445e+03\n",
      "Arena_total                                 4.600622e+01\n",
      "arena_bombeada_nacional_tn                  1.418889e+08\n",
      "intensidad_fluido                           1.086111e+03\n",
      "LRH                                         3.055687e+06\n",
      "prod_pet                                    1.133305e+07\n",
      "prod_gas_acum                               2.544124e+08\n",
      "anio_ff                                     7.101139e+01\n",
      "intensidad_arena                            3.060024e+06\n",
      "anio                                        8.020300e+01\n",
      "tipoextraccion_Gas Lift                     3.235562e-32\n",
      "dtype: float64\n",
      "---\n",
      "Inercia del cluster 3 en el conjunto de entrenamiento: Producción_Normalizada_por_Concentracion    9.225587e+05\n",
      "Producción_Normalizada_por_Etapa            4.202518e+09\n",
      "prod_pet_acum                               3.724790e+09\n",
      "agua_inyectada_m3                           5.703266e+09\n",
      "cantidad_fracturas                          1.629711e+03\n",
      "Arena_total                                 7.948402e+01\n",
      "arena_bombeada_nacional_tn                  7.524322e+07\n",
      "intensidad_fluido                           5.000754e+03\n",
      "LRH                                         6.726489e+06\n",
      "prod_pet                                    6.639446e+07\n",
      "prod_gas_acum                               1.244233e+08\n",
      "anio_ff                                     1.157895e+01\n",
      "intensidad_arena                            5.507427e+06\n",
      "anio                                        1.789474e+01\n",
      "tipoextraccion_Gas Lift                     9.473684e+00\n",
      "dtype: float64\n",
      "Inercia del cluster 3 en el conjunto de prueba: Producción_Normalizada_por_Concentracion    8.622452e+05\n",
      "Producción_Normalizada_por_Etapa            4.269934e+09\n",
      "prod_pet_acum                               2.647429e+09\n",
      "agua_inyectada_m3                           2.412805e+09\n",
      "cantidad_fracturas                          5.039183e+02\n",
      "Arena_total                                 4.730145e+01\n",
      "arena_bombeada_nacional_tn                  5.884170e+07\n",
      "intensidad_fluido                           2.294510e+03\n",
      "LRH                                         3.090471e+06\n",
      "prod_pet                                    7.441965e+07\n",
      "prod_gas_acum                               8.409887e+08\n",
      "anio_ff                                     4.479224e+00\n",
      "intensidad_arena                            4.863006e+06\n",
      "anio                                        7.132964e+00\n",
      "tipoextraccion_Gas Lift                     2.349030e+00\n",
      "dtype: float64\n",
      "---\n",
      "Inercia del cluster 4 en el conjunto de entrenamiento: Producción_Normalizada_por_Concentracion    3.250519e+06\n",
      "Producción_Normalizada_por_Etapa            3.596075e+09\n",
      "prod_pet_acum                               6.791809e+09\n",
      "agua_inyectada_m3                           7.768593e+09\n",
      "cantidad_fracturas                          3.567494e+03\n",
      "Arena_total                                 3.751949e+02\n",
      "arena_bombeada_nacional_tn                  8.295091e+08\n",
      "intensidad_fluido                           1.234368e+04\n",
      "LRH                                         2.245076e+07\n",
      "prod_pet                                    1.502946e+08\n",
      "prod_gas_acum                               1.031687e+09\n",
      "anio_ff                                     3.006897e+02\n",
      "intensidad_arena                            3.607292e+07\n",
      "anio                                        3.096322e+02\n",
      "tipoextraccion_Gas Lift                     5.236122e-32\n",
      "dtype: float64\n",
      "Inercia del cluster 4 en el conjunto de prueba: Producción_Normalizada_por_Concentracion    8.823272e+05\n",
      "Producción_Normalizada_por_Etapa            7.598563e+08\n",
      "prod_pet_acum                               1.827820e+09\n",
      "agua_inyectada_m3                           1.945013e+09\n",
      "cantidad_fracturas                          8.839612e+02\n",
      "Arena_total                                 5.242620e+01\n",
      "arena_bombeada_nacional_tn                  8.617331e+07\n",
      "intensidad_fluido                           5.575641e+03\n",
      "LRH                                         7.543814e+06\n",
      "prod_pet                                    5.424072e+07\n",
      "prod_gas_acum                               2.205173e+08\n",
      "anio_ff                                     5.293698e+01\n",
      "intensidad_arena                            1.508311e+07\n",
      "anio                                        5.554855e+01\n",
      "tipoextraccion_Gas Lift                     1.263892e-32\n",
      "dtype: float64\n",
      "---\n",
      "Inercia del cluster 5 en el conjunto de entrenamiento: Producción_Normalizada_por_Concentracion    2.469029e+05\n",
      "Producción_Normalizada_por_Etapa            9.058027e+08\n",
      "prod_pet_acum                               1.052459e+09\n",
      "agua_inyectada_m3                           1.300082e+09\n",
      "cantidad_fracturas                          8.436250e+02\n",
      "Arena_total                                 5.986438e+01\n",
      "arena_bombeada_nacional_tn                  5.455787e+07\n",
      "intensidad_fluido                           3.668697e+03\n",
      "LRH                                         3.840210e+06\n",
      "prod_pet                                    8.677423e+06\n",
      "prod_gas_acum                               3.142129e+07\n",
      "anio_ff                                     2.295833e+01\n",
      "intensidad_arena                            6.191589e+06\n",
      "anio                                        2.983333e+01\n",
      "tipoextraccion_Gas Lift                     9.583333e-01\n",
      "dtype: float64\n",
      "Inercia del cluster 5 en el conjunto de prueba: Producción_Normalizada_por_Concentracion    2.263639e+05\n",
      "Producción_Normalizada_por_Etapa            5.731287e+08\n",
      "prod_pet_acum                               5.528014e+08\n",
      "agua_inyectada_m3                           7.501135e+08\n",
      "cantidad_fracturas                          3.419375e+02\n",
      "Arena_total                                 4.091832e+01\n",
      "arena_bombeada_nacional_tn                  4.726313e+07\n",
      "intensidad_fluido                           2.000358e+03\n",
      "LRH                                         2.695464e+06\n",
      "prod_pet                                    2.088442e+06\n",
      "prod_gas_acum                               3.188115e+07\n",
      "anio_ff                                     1.360417e+01\n",
      "intensidad_arena                            4.442253e+06\n",
      "anio                                        1.408333e+01\n",
      "tipoextraccion_Gas Lift                     2.083333e-02\n",
      "dtype: float64\n",
      "---\n"
     ]
    }
   ],
   "source": [
    "means = KMeans(n_clusters=6, random_state=42)\n",
    "kmeans.fit(X_train)\n",
    "\n",
    "inercia_train = []\n",
    "for label in range(kmeans.n_clusters):\n",
    "    cluster_points = X_train[kmeans.labels_ == label]\n",
    "    cluster_inercia = ((cluster_points - kmeans.cluster_centers_[label]) ** 2).sum()\n",
    "    inercia_train.append(cluster_inercia)\n",
    "\n",
    "# Calcular la inercia para cada cluster en el conjunto de prueba\n",
    "inercia_test = []\n",
    "for label in range(kmeans.n_clusters):\n",
    "    cluster_points = X_test[kmeans.predict(X_test) == label]\n",
    "    cluster_inercia = ((cluster_points - kmeans.cluster_centers_[label]) ** 2).sum()\n",
    "    inercia_test.append(cluster_inercia)\n",
    "\n",
    "# Imprimir las inercias de cada cluster\n",
    "for label, inertia_tr, inertia_te in zip(range(kmeans.n_clusters), inercia_train, inercia_test):\n",
    "    print(f\"Inercia del cluster {label} en el conjunto de entrenamiento: {inertia_tr}\")\n",
    "    print(f\"Inercia del cluster {label} en el conjunto de prueba: {inertia_te}\")\n",
    "    print(\"---\")"
   ]
  },
  {
   "cell_type": "markdown",
   "id": "108fa7d7",
   "metadata": {},
   "source": [
    "A continuación podemos observar a partir de un grafico de barras la comparación en cada uno de los clusters del modelo de entrenamiendo y los datos que se dejaron como prueba."
   ]
  },
  {
   "cell_type": "code",
   "execution_count": 23,
   "id": "056157f2",
   "metadata": {},
   "outputs": [
    {
     "data": {
      "image/png": "[encoded data removed]",
      "text/plain": [
       "<Figure size 432x288 with 1 Axes>"
      ]
     },
     "metadata": {
      "needs_background": "light"
     },
     "output_type": "display_data"
    }
   ],
   "source": [
    "inercia_train = []\n",
    "inercia_test = []\n",
    "for i in range(kmeans.n_clusters):\n",
    "    inercia_train.append(X_train[y_train == i].var().sum())\n",
    "    inercia_test.append(X_test[y_test == i].var().sum())\n",
    "\n",
    "labels = np.arange(kmeans.n_clusters)\n",
    "\n",
    "fig, ax = plt.subplots()\n",
    "\n",
    "width = 0.30  # Ancho de las barras\n",
    "ax.bar(labels - width/2, inercia_train, width, label='Entrenamiento', alpha=0.7)\n",
    "ax.bar(labels + width/2, inercia_test, width, label='Prueba', alpha=0.7)\n",
    "\n",
    "ax.set_xlabel('Cluster')\n",
    "ax.set_ylabel('Inercia')\n",
    "ax.set_title('Inercia por cluster (Entrenamiento vs Prueba)')\n",
    "ax.set_xlim(-0.5, 5.5)\n",
    "\n",
    "ax.legend()\n",
    "\n",
    "plt.show()"
   ]
  },
  {
   "cell_type": "markdown",
   "id": "d5ee31cb",
   "metadata": {},
   "source": [
    "Observamos que el cluster 2 y el 5 son los que tienen una mejor correspondencia entre los datos de entrenamiento y los de prueba."
   ]
  },
  {
   "cell_type": "markdown",
   "id": "0b0b5647",
   "metadata": {},
   "source": [
    "Aplicaremos el metodo de PCA para ajustar nuestro modelo."
   ]
  },
  {
   "cell_type": "code",
   "execution_count": 24,
   "id": "aef65497",
   "metadata": {},
   "outputs": [
    {
     "name": "stderr",
     "output_type": "stream",
     "text": [
      "C:\\Users\\gusta\\AppData\\Local\\Temp\\ipykernel_9568\\3112952883.py:1: FutureWarning: In a future version of pandas all arguments of DataFrame.drop except for the argument 'labels' will be keyword-only.\n",
      "  X = Mejores_Var.drop('prod_pet_acum',1)\n"
     ]
    }
   ],
   "source": [
    "X = Mejores_Var.drop('prod_pet_acum',1)\n",
    "y = Mejores_Var['prod_pet_acum']"
   ]
  },
  {
   "cell_type": "code",
   "execution_count": 25,
   "id": "e624eb9d",
   "metadata": {},
   "outputs": [],
   "source": [
    "X_train, X_test, y_train, y_test = train_test_split(X,y,test_size=0.2,random_state=42)"
   ]
  },
  {
   "cell_type": "code",
   "execution_count": 26,
   "id": "1683f21b",
   "metadata": {},
   "outputs": [],
   "source": [
    "sc = StandardScaler()\n",
    "X_train = sc.fit_transform(X_train)\n",
    "X_test = sc.transform(X_test)"
   ]
  },
  {
   "cell_type": "code",
   "execution_count": 27,
   "id": "c4849fbc",
   "metadata": {},
   "outputs": [],
   "source": [
    "pca = PCA()\n",
    "X_train = pca.fit_transform(X_train)\n",
    "X_test = pca.transform(X_test)"
   ]
  },
  {
   "cell_type": "code",
   "execution_count": 28,
   "id": "f40a9362",
   "metadata": {},
   "outputs": [
    {
     "data": {
      "text/plain": [
       "array([5.95295056e-01, 9.42965010e-02, 8.68790086e-02, 6.50318601e-02,\n",
       "       4.42506856e-02, 3.63344078e-02, 2.84120280e-02, 2.04525437e-02,\n",
       "       1.02853598e-02, 7.98403684e-03, 6.45409545e-03, 2.30425791e-03,\n",
       "       9.42613067e-04, 7.23126001e-04, 3.54420181e-04])"
      ]
     },
     "execution_count": 28,
     "metadata": {},
     "output_type": "execute_result"
    }
   ],
   "source": [
    "explained_variance = pca.explained_variance_ratio_\n",
    "explained_variance"
   ]
  },
  {
   "cell_type": "markdown",
   "id": "081c88a4",
   "metadata": {},
   "source": [
    "Busquemos el número de componenetes a usar."
   ]
  },
  {
   "cell_type": "code",
   "execution_count": 29,
   "id": "17649405",
   "metadata": {},
   "outputs": [],
   "source": [
    "def buscar_componentes(Mejores_Var, var_min=0.95, plot=True):\n",
    "\n",
    "#Busqueda de cantidad de componentes principales necesarios\n",
    "\n",
    "    if plot:\n",
    "\n",
    "        model = make_pipeline(StandardScaler(),PCA())\n",
    "        model.fit(Mejores_Var)\n",
    "        N = model.named_steps['pca'].n_components_\n",
    "        VAR = model.named_steps['pca'].explained_variance_ratio_\n",
    "        x_graf = [i+1 for i in range(N)]\n",
    "        variance = np.cumsum(VAR)\n",
    "        i_lim = sum(variance < var_min)\n",
    "        v_lim = variance[i_lim]\n",
    "\n",
    "        fig, ax = plt.subplots() \n",
    "        ax.plot(x_graf, variance,'-o')\n",
    "        ax.annotate(str(i_lim+1)+', '+'{0:.3f}'.format(v_lim), xy=(i_lim+1, v_lim), xytext=(i_lim+1,0.8), ha='center',textcoords='data', arrowprops=dict(arrowstyle=\"->\"))\n",
    "        ax.set_xlabel('Número de Componentes')\n",
    "        ax.set_ylabel('Varianza Acumulada')\n",
    "        ax.set_ylim([0, 1])\n",
    "        plt.show()\n",
    "\n",
    "    model = make_pipeline(StandardScaler(),PCA(var_min))\n",
    "    model.fit(Mejores_Var)\n",
    "\n",
    "    if plot: print('Cantidad de componentes para 0.95: ' + str(model.named_steps['pca'].n_components_))\n",
    "    return model"
   ]
  },
  {
   "cell_type": "code",
   "execution_count": 30,
   "id": "c17fee4a",
   "metadata": {},
   "outputs": [
    {
     "data": {
      "image/png": "[encoded data removed]",
      "text/plain": [
       "<Figure size 432x288 with 1 Axes>"
      ]
     },
     "metadata": {
      "needs_background": "light"
     },
     "output_type": "display_data"
    },
    {
     "name": "stdout",
     "output_type": "stream",
     "text": [
      "Cantidad de componentes para 0.95: 8\n"
     ]
    }
   ],
   "source": [
    "model_ML=buscar_componentes(Mejores_Var, 0.95)"
   ]
  },
  {
   "cell_type": "code",
   "execution_count": 31,
   "id": "a45f1976",
   "metadata": {},
   "outputs": [],
   "source": [
    "pca = PCA(n_components=8)\n",
    "X_train = pca.fit_transform(X_train)\n",
    "X_test = pca.transform(X_test)"
   ]
  },
  {
   "cell_type": "markdown",
   "id": "1ff5dd8d",
   "metadata": {},
   "source": [
    "Finalmente obtenemos los valores para nuestro modelo base."
   ]
  },
  {
   "cell_type": "code",
   "execution_count": 32,
   "id": "e23e1168",
   "metadata": {},
   "outputs": [
    {
     "name": "stdout",
     "output_type": "stream",
     "text": [
      "Valor de base para la Acumulada de Petróleo al primer año: 28874.58\n",
      "Baseline Performance on the test set: MAE = 13587.4789\n"
     ]
    }
   ],
   "source": [
    "def mae(y_true, y_pred):\n",
    "    return np.average(abs(y_true - y_pred))\n",
    "baseline_guess = np.median(y_train)\n",
    "basic_baseline_mae = mae(y_test, baseline_guess)\n",
    "print(\"Valor de base para la Acumulada de Petróleo al primer año: {:.02f}\".format(baseline_guess))\n",
    "print(\"Baseline Performance on the test set: MAE = {:.04f}\".format(basic_baseline_mae))"
   ]
  },
  {
   "cell_type": "markdown",
   "id": "00316245",
   "metadata": {},
   "source": [
    "## **EVALUACION DE MODELOS DE MACHINE LEARNING**"
   ]
  },
  {
   "cell_type": "code",
   "execution_count": 33,
   "id": "9b99a19a",
   "metadata": {},
   "outputs": [
    {
     "name": "stdout",
     "output_type": "stream",
     "text": [
      "Requirement already satisfied: xgboost in c:\\users\\gusta\\anaconda3\\lib\\site-packages (1.7.4)\n",
      "Requirement already satisfied: scipy in c:\\users\\gusta\\anaconda3\\lib\\site-packages (from xgboost) (1.7.3)\n",
      "Requirement already satisfied: numpy in c:\\users\\gusta\\anaconda3\\lib\\site-packages (from xgboost) (1.21.5)\n"
     ]
    }
   ],
   "source": [
    "!pip install xgboost \n",
    "from sklearn.ensemble import RandomForestRegressor\n",
    "from sklearn.neighbors import KNeighborsRegressor\n",
    "from sklearn.linear_model import Ridge\n",
    "import xgboost as xgb"
   ]
  },
  {
   "cell_type": "markdown",
   "id": "6b31389b",
   "metadata": {},
   "source": [
    "Entrenemos y hagamos predicciones con nuestro modelo base para luego compararlo con distintos modelos de regresión y asi determinar cual presenta un valor de MAE menor."
   ]
  },
  {
   "cell_type": "code",
   "execution_count": 34,
   "id": "7a01ebff",
   "metadata": {},
   "outputs": [],
   "source": [
    "def fit_and_evaluate(model):\n",
    "    \n",
    "    # Train the model\n",
    "    model.fit(X_train, y_train)\n",
    "    \n",
    "    # Make predictions and evalute\n",
    "    model_pred = model.predict(X_test)\n",
    "    model_mae = mae(y_test, model_pred)\n",
    "    \n",
    "    # Return the performance metric\n",
    "    return model_mae"
   ]
  },
  {
   "cell_type": "markdown",
   "id": "99e914cf",
   "metadata": {},
   "source": [
    "Usaremos los modelos de Random Forest, K-nearest neigbours, Ridge y XGBoost que segun el proposito de nuestro analisis (poder predecir la acumulada de petróleo en pozos no convencionales, para evaluar la rentabilidad de los pozos basados en la elección de los mejores parametros de fractura) son los que mejor pueden aplicarse a nuestro dataset."
   ]
  },
  {
   "cell_type": "code",
   "execution_count": 35,
   "id": "665d3253",
   "metadata": {},
   "outputs": [
    {
     "name": "stdout",
     "output_type": "stream",
     "text": [
      "Random Forest Regression Performance on the test set: MAE = 4011.2963\n"
     ]
    }
   ],
   "source": [
    "random_forest = RandomForestRegressor(random_state=60)\n",
    "random_forest_mae = fit_and_evaluate(random_forest)\n",
    "\n",
    "print(\"Random Forest Regression Performance on the test set: MAE = {:.04f}\".format(random_forest_mae))"
   ]
  },
  {
   "cell_type": "code",
   "execution_count": 36,
   "id": "ea689f7f",
   "metadata": {},
   "outputs": [
    {
     "name": "stdout",
     "output_type": "stream",
     "text": [
      "K-Nearest Neighbors Regression Performance on the test set: MAE = 4548.3513\n"
     ]
    }
   ],
   "source": [
    "knn = KNeighborsRegressor(n_neighbors=8)\n",
    "knn_mae = fit_and_evaluate(knn)\n",
    "\n",
    "print(\"K-Nearest Neighbors Regression Performance on the test set: MAE = {:.04f}\".format(knn_mae))"
   ]
  },
  {
   "cell_type": "code",
   "execution_count": 37,
   "id": "c198701f",
   "metadata": {},
   "outputs": [
    {
     "name": "stdout",
     "output_type": "stream",
     "text": [
      "Ridge Regression Performance on the test set: MAE = 5657.5282\n"
     ]
    }
   ],
   "source": [
    "ridge = Ridge(alpha=10)\n",
    "ridge_mae = fit_and_evaluate(ridge)\n",
    "\n",
    "print(\"Ridge Regression Performance on the test set: MAE = {:.04f}\".format(ridge_mae))"
   ]
  },
  {
   "cell_type": "code",
   "execution_count": 38,
   "id": "702479e5",
   "metadata": {},
   "outputs": [
    {
     "name": "stdout",
     "output_type": "stream",
     "text": [
      "XGBoost Reggressor Performance on the test set: MAE = 4233.4355\n"
     ]
    }
   ],
   "source": [
    "xgBoost = xgb.XGBRegressor(random_state=60)\n",
    "xgBoost_mae = fit_and_evaluate(xgBoost)\n",
    "\n",
    "print(\"XGBoost Reggressor Performance on the test set: MAE = {:.04f}\".format(xgBoost_mae))"
   ]
  },
  {
   "cell_type": "code",
   "execution_count": 39,
   "id": "954b0a63",
   "metadata": {},
   "outputs": [
    {
     "data": {
      "image/png": "[encoded data removed]",
      "text/plain": [
       "<Figure size 1080x720 with 1 Axes>"
      ]
     },
     "metadata": {
      "needs_background": "light"
     },
     "output_type": "display_data"
    }
   ],
   "source": [
    "model_comparison = pd.DataFrame({\"model\": [\"Random Forest\",\n",
    "                                            \"K-Nearest Neighbors\",\"Baseline (median)\", \"Ridge\", \"XGBoost\"],\n",
    "                                 \"mae\": [random_forest_mae, knn_mae, basic_baseline_mae, ridge_mae, xgBoost_mae]})\n",
    "model_comparison.sort_values(\"mae\", ascending=False).plot(x=\"model\", y=\"mae\", kind=\"barh\",\n",
    "                                                           color=\"lightskyblue\", legend=False,figsize=(15,10))\n",
    "plt.ylabel(\"\"); plt.yticks(size=14); plt.xlabel(\"Mean Absolute Error\"); plt.xticks(size=14)\n",
    "plt.title(\"Model Comparison on Test MAE\", size=20);"
   ]
  },
  {
   "cell_type": "markdown",
   "id": "0bdcffee",
   "metadata": {},
   "source": [
    "Observamos que existe una gran similitud entre los modelos Random Forest y XG-Boost. Procedemos entonces a optimizar los hiperparámetros de ambos modelos para luego evaluar cuál de estos posee un mejor performance."
   ]
  },
  {
   "cell_type": "markdown",
   "id": "77e004ce",
   "metadata": {},
   "source": [
    "### OPTIMIZACIÓN DE HIPERPARAMETROS"
   ]
  },
  {
   "cell_type": "markdown",
   "id": "11e4994c",
   "metadata": {},
   "source": [
    "Comenzaremos definiendo una grilla de hiperparámetros para optimizar los distintos modelos de ML elegidos mediante RandomizedSearch, y luego mediante GridSearch, evaluando dichos modelos en búsqueda del mejor performance. El modelo que presente el mayor Coeficiente de Determinación sera el modelo final usado para la predicción de la acumulada de petróleo."
   ]
  },
  {
   "cell_type": "code",
   "execution_count": 40,
   "id": "63401b1c",
   "metadata": {},
   "outputs": [],
   "source": [
    "from sklearn.model_selection import RandomizedSearchCV, GridSearchCV, learning_curve\n",
    "from sklearn.metrics import r2_score\n",
    "\n",
    "#Cantidad óptima de clústers seleccionada\n",
    "cv = 6\n",
    "\n",
    "# Loss function to be optimized\n",
    "loss = [\"ls\", \"lad\", \"huber\"]\n",
    "\n",
    "# Maximum depth of each tree\n",
    "max_depth = [2, 3, 5, 10, 15]\n",
    "\n",
    "# Minimum number of samples per leaf\n",
    "min_samples_leaf = [1, 2, 4, 6, 8]\n",
    "\n",
    "# Minimum number of samples to split a node\n",
    "min_samples_split = [1, 2, 4, 6, 10]\n",
    "\n",
    "# Maximum number of features to consider for making splits\n",
    "max_features = [\"auto\", \"sqrt\", \"log2\", None]\n",
    "\n",
    "hyperparameter_grid = {\"loss\": loss,\n",
    "                       \"max_depth\": max_depth,\n",
    "                       \"min_samples_leaf\": min_samples_leaf,\n",
    "                       \"min_samples_split\": min_samples_split,\n",
    "                       \"max_features\": max_features}\n",
    "\n",
    "trees_grid = {\"n_estimators\": [50, 100, 150, 200, 250, 300]}"
   ]
  },
  {
   "cell_type": "code",
   "execution_count": 41,
   "id": "8270611b",
   "metadata": {},
   "outputs": [
    {
     "name": "stdout",
     "output_type": "stream",
     "text": [
      "Fitting 6 folds for each of 4 candidates, totalling 24 fits\n",
      "\n",
      " Random Forest Model performance on the test set: R2 = 0.8814\n"
     ]
    }
   ],
   "source": [
    "#Random Forest\n",
    "\n",
    "n_estimators = [50,100,250,300]\n",
    "\n",
    "hyperparameters = dict(n_estimators=n_estimators)\n",
    "\n",
    "random_forest_model = RandomForestRegressor(random_state=60)\n",
    "\n",
    "rf_grid_search = GridSearchCV(estimator=random_forest_model, param_grid=hyperparameters, cv=cv, \n",
    "                           scoring=\"neg_mean_absolute_error\", verbose=1,\n",
    "                           n_jobs=-1, return_train_score=True)\n",
    "\n",
    "rf_grid_search.fit(X_train, y_train)\n",
    "\n",
    "rf_final_model = rf_grid_search.best_estimator_\n",
    "\n",
    "print(\"\\n Random Forest Model performance on the test set: R2 = {:.04f}\".format(r2_score(y_test,rf_final_model.predict(X_test))))"
   ]
  },
  {
   "cell_type": "code",
   "execution_count": 42,
   "id": "eb78b760",
   "metadata": {},
   "outputs": [
    {
     "name": "stdout",
     "output_type": "stream",
     "text": [
      "Fitting 6 folds for each of 4 candidates, totalling 24 fits\n",
      "\n",
      " XGBoost Model performance on the test set: R2 = 0.8618\n"
     ]
    }
   ],
   "source": [
    "#XG-Boost\n",
    "\n",
    "xgb_model = xgb.XGBRegressor(objective=\"reg:squarederror\", random_state=60)\n",
    "\n",
    "xgb_grid_search = GridSearchCV(estimator=xgb_model, param_grid=hyperparameters, cv=cv,\n",
    "                               scoring=\"neg_mean_absolute_error\", verbose=1,\n",
    "                               n_jobs=-1, return_train_score=True)\n",
    "\n",
    "xgb_grid_search.fit(X_train, y_train)\n",
    "\n",
    "xgb_final_model = xgb_grid_search.best_estimator_\n",
    "\n",
    "print(\"\\n XGBoost Model performance on the test set: R2 = {:.04f}\".format(r2_score(y_test,xgb_final_model.predict(X_test))))"
   ]
  },
  {
   "cell_type": "markdown",
   "id": "b48a8f54",
   "metadata": {},
   "source": [
    "A continuación graficaremos las curvas de entrenamiento y de prueba para definir cual de los modelos funciona mejor."
   ]
  },
  {
   "cell_type": "code",
   "execution_count": 43,
   "id": "b1067d8d",
   "metadata": {},
   "outputs": [
    {
     "data": {
      "image/png": "[encoded data removed]",
      "text/plain": [
       "<Figure size 1080x576 with 1 Axes>"
      ]
     },
     "metadata": {
      "needs_background": "light"
     },
     "output_type": "display_data"
    },
    {
     "data": {
      "image/png": "[encoded data removed]",
      "text/plain": [
       "<Figure size 1080x576 with 1 Axes>"
      ]
     },
     "metadata": {
      "needs_background": "light"
     },
     "output_type": "display_data"
    }
   ],
   "source": [
    "def plot_learning_curve(estimator, title, X, y, ylim=None, cv=None,\n",
    "                        n_jobs=-1, train_sizes=np.linspace(.1, 1.0, 5)):\n",
    "    \"\"\"Generate a simple plot of the test and training learning curve\"\"\"\n",
    "    plt.figure(figsize=(15,8))\n",
    "    plt.title(title)\n",
    "    if ylim is not None:\n",
    "        plt.ylim(*ylim)\n",
    "    plt.xlabel(\"Training examples\")\n",
    "    plt.ylabel(\"Score\")\n",
    "    train_sizes, train_scores, test_scores = learning_curve(\n",
    "        estimator, X, y, cv=cv, n_jobs=n_jobs, train_sizes=train_sizes)\n",
    "    train_scores_mean = np.mean(train_scores, axis=1)\n",
    "    train_scores_std = np.std(train_scores, axis=1)\n",
    "    test_scores_mean = np.mean(test_scores, axis=1)\n",
    "    test_scores_std = np.std(test_scores, axis=1)\n",
    "    plt.grid()\n",
    "\n",
    "    plt.fill_between(train_sizes, train_scores_mean - train_scores_std,\n",
    "                     train_scores_mean + train_scores_std, alpha=0.1,\n",
    "                     color=\"r\")\n",
    "    plt.fill_between(train_sizes, test_scores_mean - test_scores_std,\n",
    "                     test_scores_mean + test_scores_std, alpha=0.1, color=\"g\")\n",
    "    plt.plot(train_sizes, train_scores_mean, 'o-', color=\"r\",\n",
    "             label=\"Training score\")\n",
    "    plt.plot(train_sizes, test_scores_mean, 'o-', color=\"g\",\n",
    "             label=\"Cross-validation score\")\n",
    "\n",
    "    plt.legend(loc=\"best\")\n",
    "    return plt\n",
    "\n",
    "g = plot_learning_curve(xgb_grid_search.best_estimator_,\"\\n  XGBoost learning curves\",X_train,y_train,cv=cv)\n",
    "g = plot_learning_curve(rf_grid_search.best_estimator_,\"\\n Random Forest learning curves\",X_train,y_train,cv=cv)"
   ]
  },
  {
   "cell_type": "markdown",
   "id": "1938b4dd",
   "metadata": {},
   "source": [
    "Con respecto a estos gráficos podemos observar que en el modelo Random Forest las curvas se muestran mas paralelas que en el modelo XG_Boost; sin embargo en ambos modelos podria interpretarse que ambos tienden a sobreajustarse ya que no logra generalizar los datos y la curva de Training Score no nos muestra \"sombra\"."
   ]
  }
 ],
 "metadata": {
  "kernelspec": {
   "display_name": "Python 3 (ipykernel)",
   "language": "python",
   "name": "python3"
  },
  "language_info": {
   "codemirror_mode": {
    "name": "ipython",
    "version": 3
   },
   "file_extension": ".py",
   "mimetype": "text/x-python",
   "name": "python",
   "nbconvert_exporter": "python",
   "pygments_lexer": "ipython3",
   "version": "3.9.12"
  }
 },
 "nbformat": 4,
 "nbformat_minor": 5
}
